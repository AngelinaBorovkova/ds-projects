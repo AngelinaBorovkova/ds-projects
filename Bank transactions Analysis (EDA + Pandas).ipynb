{
 "cells": [
  {
   "cell_type": "markdown",
   "id": "bf00e778",
   "metadata": {},
   "source": [
    "# Bank transactions analysis (EDA + Pandas)"
   ]
  },
  {
   "cell_type": "markdown",
   "id": "5768d8e5",
   "metadata": {},
   "source": [
    "# Навыки"
   ]
  },
  {
   "cell_type": "markdown",
   "id": "fda94163",
   "metadata": {},
   "source": [
    "Pandas, визуализация, анализ пользовательского поведения"
   ]
  },
  {
   "cell_type": "markdown",
   "id": "ca5c46dc",
   "metadata": {},
   "source": [
    "# О датасете"
   ]
  },
  {
   "cell_type": "markdown",
   "id": "8504b03c",
   "metadata": {},
   "source": [
    " Источник: Credit Card Transactions Dataset https://www.kaggle.com/datasets/kartik2112/fraud-detection  \n",
    " Формат: CSV-файл с колонками:  \n",
    " •\tindex - Unique Identifier for each row  \n",
    "•\ttrans_date_trans_time - Transaction DateTime  \n",
    "•\tcc_num - Credit Card Number of Customer  \n",
    "•\tmerchant - Merchant Name  \n",
    "•\tcategory - Category of Merchant  \n",
    "•\tamt - Amount of Transaction  \n",
    "•\tfirst - First Name of Credit Card Holder  \n",
    "•\tlast - Last Name of Credit Card Holder  \n",
    "•\tgender - Gender of Credit Card Holder  \n",
    "•\tstreet - Street Address of Credit Card Holder  \n",
    "•\tcity - City of Credit Card Holder  \n",
    "•\tstate - State of Credit Card Holder  \n",
    "•\tzip - Zip of Credit Card Holder  \n",
    "•\tlat - Latitude Location of Credit Card Holder  \n",
    "•\tlong - Longitude Location of Credit Card Holder  \n",
    "•\tcity_pop - Credit Card Holder's City Population  \n",
    "•\tjob - Job of Credit Card Holder  \n",
    "•\tdob - Date of Birth of Credit Card Holder  \n",
    "•\ttrans_num - Transaction Number  \n",
    "•\tunix_time - UNIX Time of transaction  \n",
    "•\tmerch_lat - Latitude Location of Merchant  \n",
    "•\tmerch_long - Longitude Location of Merchant  \n",
    "•\tis_fraud - Fraud Flag <--- Target Class  "
   ]
  },
  {
   "cell_type": "markdown",
   "id": "ffbf3fbc",
   "metadata": {},
   "source": [
    "# О проекте"
   ]
  },
  {
   "cell_type": "markdown",
   "id": "fa92c904",
   "metadata": {},
   "source": [
    "**Проект**: Анализ транзакций клиентов банка (EDA + Pandas)  \n",
    "\n",
    "**Данные**:\n",
    "Датасет содержит реальные банковские транзакции с меткой мошенничества (is_fraud).  \n",
    "\n",
    "**Цель проекта**:\n",
    "\n",
    " • Изучить поведение клиентов банка по транзакциям  \n",
    " • Выявить основные категории расходов  \n",
    " • Найти аномальные транзакции  \n",
    " • Определить закономерности мошеннических операций  \n",
    "\n",
    "1️⃣ **Предобработка и анализ данных (EDA)**\n",
    "\n",
    "Какие вопросы будут изучены?  \n",
    "✔️ Сколько обычно тратят клиенты?  \n",
    "✔️ В какое время чаще совершаются покупки?  \n",
    "✔️ Кто совершает самые крупные транзакции?  \n",
    "✔️ Какие категории транзакций самые популярные?  \n",
    "✔️ Сколько в среднем тратят по категориям?  \n",
    "\n",
    " 1. Загрузка данных в Pandas (data = pd.read_csv(...))  \n",
    " 2. Обработка пропущенных значений (data.isnull().sum())  \n",
    " 3. Проверка и корректировка типов данных (datetime, float, int)  \n",
    " 4. Распределение сумм покупок  \n",
    " • data['amt'].describe()  \n",
    " • sns.histplot(data['amt'], bins=50)  \n",
    " • Топ-10 самых крупных транзакций  \n",
    " • Топ-10 клиентов с наибольшими тратами\n",
    " 5. Популярные категории покупок  \n",
    " • data['category'].value_counts()  \n",
    " • sns.countplot(y=data['category'], order=data['category'].value_counts().index)   \n",
    " • Средняя сумма покупок по категориям  \n",
    " 6. Анализ по времени  \n",
    " • Преобразуем trans_date_trans_time в datetime  \n",
    " • Определим распределение транзакций по часам (data['hour'] = data['trans_date_trans_time'].dt.hour)  \n",
    " • sns.histplot(data['hour'], bins=24)  \n",
    "\n",
    "\n",
    "2️⃣ **Анализ мошенничества (is_fraud)**  \n",
    "\n",
    "Какие вопросы будут изучены:  \n",
    "✔️ Каков объём фрода?  \n",
    "✔️ В каких категориях фрода больше?  \n",
    "✔️ Сколько тратят мошенники?  \n",
    "✔️ Когда мошенники активнее?  \n",
    "\n",
    "\n",
    " 1. Распределение мошеннических и обычных транзакций  \n",
    " • data['is_fraud'].value_counts(normalize=True)  \n",
    " • sns.countplot(x='is_fraud', data=data)  \n",
    " \n",
    " \n",
    " 2. Какие категории чаще всего используются в мошенничестве?  \n",
    "data[data['is_fraud'] == 1]['category'].value_counts()  \n",
    "\n",
    "\n",
    " 3. Средний чек мошеннических транзакций  \n",
    "data.groupby('is_fraud')['amt'].describe()  \n",
    "\n",
    "\n",
    " 4. Связь времени суток и мошенничества  \n",
    "sns.histplot(data[data['is_fraud'] == 1]['hour'], bins=24, color='black')  \n",
    "sns.histplot(data[data['is_fraud'] == 0]['hour'], bins=24, color='green')  \n"
   ]
  },
  {
   "cell_type": "markdown",
   "id": "5992baa2",
   "metadata": {},
   "source": [
    "# 1️⃣ Предобработка и анализ данных (EDA)"
   ]
  },
  {
   "cell_type": "markdown",
   "id": "64278db1",
   "metadata": {},
   "source": [
    "Какие вопросы будут изучены:  \n",
    "✔️ Сколько обычно тратят клиенты?  \n",
    "✔️ В какое время чаще совершаются покупки?  \n",
    "✔️ Кто совершает самые крупные транзакции?  \n",
    "✔️ Какие категории транзакций самые популярные?  \n",
    "✔️ Сколько в среднем тратят по категориям?  "
   ]
  },
  {
   "cell_type": "markdown",
   "id": "0a7fc751",
   "metadata": {},
   "source": [
    "## 1. Загрузка данных в Pandas, display"
   ]
  },
  {
   "cell_type": "code",
   "execution_count": 1,
   "id": "309696a9",
   "metadata": {
    "scrolled": true
   },
   "outputs": [
    {
     "data": {
      "text/html": [
       "<div>\n",
       "<style scoped>\n",
       "    .dataframe tbody tr th:only-of-type {\n",
       "        vertical-align: middle;\n",
       "    }\n",
       "\n",
       "    .dataframe tbody tr th {\n",
       "        vertical-align: top;\n",
       "    }\n",
       "\n",
       "    .dataframe thead th {\n",
       "        text-align: right;\n",
       "    }\n",
       "</style>\n",
       "<table border=\"1\" class=\"dataframe\">\n",
       "  <thead>\n",
       "    <tr style=\"text-align: right;\">\n",
       "      <th></th>\n",
       "      <th>Unnamed: 0</th>\n",
       "      <th>trans_date_trans_time</th>\n",
       "      <th>cc_num</th>\n",
       "      <th>merchant</th>\n",
       "      <th>category</th>\n",
       "      <th>amt</th>\n",
       "      <th>first</th>\n",
       "      <th>last</th>\n",
       "      <th>gender</th>\n",
       "      <th>street</th>\n",
       "      <th>...</th>\n",
       "      <th>lat</th>\n",
       "      <th>long</th>\n",
       "      <th>city_pop</th>\n",
       "      <th>job</th>\n",
       "      <th>dob</th>\n",
       "      <th>trans_num</th>\n",
       "      <th>unix_time</th>\n",
       "      <th>merch_lat</th>\n",
       "      <th>merch_long</th>\n",
       "      <th>is_fraud</th>\n",
       "    </tr>\n",
       "  </thead>\n",
       "  <tbody>\n",
       "    <tr>\n",
       "      <th>0</th>\n",
       "      <td>0</td>\n",
       "      <td>2019-01-01 00:00:18</td>\n",
       "      <td>2703186189652095</td>\n",
       "      <td>fraud_Rippin, Kub and Mann</td>\n",
       "      <td>misc_net</td>\n",
       "      <td>4.97</td>\n",
       "      <td>Jennifer</td>\n",
       "      <td>Banks</td>\n",
       "      <td>F</td>\n",
       "      <td>561 Perry Cove</td>\n",
       "      <td>...</td>\n",
       "      <td>36.0788</td>\n",
       "      <td>-81.1781</td>\n",
       "      <td>3495</td>\n",
       "      <td>Psychologist, counselling</td>\n",
       "      <td>1988-03-09</td>\n",
       "      <td>0b242abb623afc578575680df30655b9</td>\n",
       "      <td>1325376018</td>\n",
       "      <td>36.011293</td>\n",
       "      <td>-82.048315</td>\n",
       "      <td>0</td>\n",
       "    </tr>\n",
       "    <tr>\n",
       "      <th>1</th>\n",
       "      <td>1</td>\n",
       "      <td>2019-01-01 00:00:44</td>\n",
       "      <td>630423337322</td>\n",
       "      <td>fraud_Heller, Gutmann and Zieme</td>\n",
       "      <td>grocery_pos</td>\n",
       "      <td>107.23</td>\n",
       "      <td>Stephanie</td>\n",
       "      <td>Gill</td>\n",
       "      <td>F</td>\n",
       "      <td>43039 Riley Greens Suite 393</td>\n",
       "      <td>...</td>\n",
       "      <td>48.8878</td>\n",
       "      <td>-118.2105</td>\n",
       "      <td>149</td>\n",
       "      <td>Special educational needs teacher</td>\n",
       "      <td>1978-06-21</td>\n",
       "      <td>1f76529f8574734946361c461b024d99</td>\n",
       "      <td>1325376044</td>\n",
       "      <td>49.159047</td>\n",
       "      <td>-118.186462</td>\n",
       "      <td>0</td>\n",
       "    </tr>\n",
       "    <tr>\n",
       "      <th>2</th>\n",
       "      <td>2</td>\n",
       "      <td>2019-01-01 00:00:51</td>\n",
       "      <td>38859492057661</td>\n",
       "      <td>fraud_Lind-Buckridge</td>\n",
       "      <td>entertainment</td>\n",
       "      <td>220.11</td>\n",
       "      <td>Edward</td>\n",
       "      <td>Sanchez</td>\n",
       "      <td>M</td>\n",
       "      <td>594 White Dale Suite 530</td>\n",
       "      <td>...</td>\n",
       "      <td>42.1808</td>\n",
       "      <td>-112.2620</td>\n",
       "      <td>4154</td>\n",
       "      <td>Nature conservation officer</td>\n",
       "      <td>1962-01-19</td>\n",
       "      <td>a1a22d70485983eac12b5b88dad1cf95</td>\n",
       "      <td>1325376051</td>\n",
       "      <td>43.150704</td>\n",
       "      <td>-112.154481</td>\n",
       "      <td>0</td>\n",
       "    </tr>\n",
       "    <tr>\n",
       "      <th>3</th>\n",
       "      <td>3</td>\n",
       "      <td>2019-01-01 00:01:16</td>\n",
       "      <td>3534093764340240</td>\n",
       "      <td>fraud_Kutch, Hermiston and Farrell</td>\n",
       "      <td>gas_transport</td>\n",
       "      <td>45.00</td>\n",
       "      <td>Jeremy</td>\n",
       "      <td>White</td>\n",
       "      <td>M</td>\n",
       "      <td>9443 Cynthia Court Apt. 038</td>\n",
       "      <td>...</td>\n",
       "      <td>46.2306</td>\n",
       "      <td>-112.1138</td>\n",
       "      <td>1939</td>\n",
       "      <td>Patent attorney</td>\n",
       "      <td>1967-01-12</td>\n",
       "      <td>6b849c168bdad6f867558c3793159a81</td>\n",
       "      <td>1325376076</td>\n",
       "      <td>47.034331</td>\n",
       "      <td>-112.561071</td>\n",
       "      <td>0</td>\n",
       "    </tr>\n",
       "    <tr>\n",
       "      <th>4</th>\n",
       "      <td>4</td>\n",
       "      <td>2019-01-01 00:03:06</td>\n",
       "      <td>375534208663984</td>\n",
       "      <td>fraud_Keeling-Crist</td>\n",
       "      <td>misc_pos</td>\n",
       "      <td>41.96</td>\n",
       "      <td>Tyler</td>\n",
       "      <td>Garcia</td>\n",
       "      <td>M</td>\n",
       "      <td>408 Bradley Rest</td>\n",
       "      <td>...</td>\n",
       "      <td>38.4207</td>\n",
       "      <td>-79.4629</td>\n",
       "      <td>99</td>\n",
       "      <td>Dance movement psychotherapist</td>\n",
       "      <td>1986-03-28</td>\n",
       "      <td>a41d7549acf90789359a9aa5346dcb46</td>\n",
       "      <td>1325376186</td>\n",
       "      <td>38.674999</td>\n",
       "      <td>-78.632459</td>\n",
       "      <td>0</td>\n",
       "    </tr>\n",
       "  </tbody>\n",
       "</table>\n",
       "<p>5 rows × 23 columns</p>\n",
       "</div>"
      ],
      "text/plain": [
       "   Unnamed: 0 trans_date_trans_time            cc_num  \\\n",
       "0           0   2019-01-01 00:00:18  2703186189652095   \n",
       "1           1   2019-01-01 00:00:44      630423337322   \n",
       "2           2   2019-01-01 00:00:51    38859492057661   \n",
       "3           3   2019-01-01 00:01:16  3534093764340240   \n",
       "4           4   2019-01-01 00:03:06   375534208663984   \n",
       "\n",
       "                             merchant       category     amt      first  \\\n",
       "0          fraud_Rippin, Kub and Mann       misc_net    4.97   Jennifer   \n",
       "1     fraud_Heller, Gutmann and Zieme    grocery_pos  107.23  Stephanie   \n",
       "2                fraud_Lind-Buckridge  entertainment  220.11     Edward   \n",
       "3  fraud_Kutch, Hermiston and Farrell  gas_transport   45.00     Jeremy   \n",
       "4                 fraud_Keeling-Crist       misc_pos   41.96      Tyler   \n",
       "\n",
       "      last gender                        street  ...      lat      long  \\\n",
       "0    Banks      F                561 Perry Cove  ...  36.0788  -81.1781   \n",
       "1     Gill      F  43039 Riley Greens Suite 393  ...  48.8878 -118.2105   \n",
       "2  Sanchez      M      594 White Dale Suite 530  ...  42.1808 -112.2620   \n",
       "3    White      M   9443 Cynthia Court Apt. 038  ...  46.2306 -112.1138   \n",
       "4   Garcia      M              408 Bradley Rest  ...  38.4207  -79.4629   \n",
       "\n",
       "   city_pop                                job         dob  \\\n",
       "0      3495          Psychologist, counselling  1988-03-09   \n",
       "1       149  Special educational needs teacher  1978-06-21   \n",
       "2      4154        Nature conservation officer  1962-01-19   \n",
       "3      1939                    Patent attorney  1967-01-12   \n",
       "4        99     Dance movement psychotherapist  1986-03-28   \n",
       "\n",
       "                          trans_num   unix_time  merch_lat  merch_long  \\\n",
       "0  0b242abb623afc578575680df30655b9  1325376018  36.011293  -82.048315   \n",
       "1  1f76529f8574734946361c461b024d99  1325376044  49.159047 -118.186462   \n",
       "2  a1a22d70485983eac12b5b88dad1cf95  1325376051  43.150704 -112.154481   \n",
       "3  6b849c168bdad6f867558c3793159a81  1325376076  47.034331 -112.561071   \n",
       "4  a41d7549acf90789359a9aa5346dcb46  1325376186  38.674999  -78.632459   \n",
       "\n",
       "   is_fraud  \n",
       "0         0  \n",
       "1         0  \n",
       "2         0  \n",
       "3         0  \n",
       "4         0  \n",
       "\n",
       "[5 rows x 23 columns]"
      ]
     },
     "metadata": {},
     "output_type": "display_data"
    }
   ],
   "source": [
    "import pandas as pd\n",
    "data = pd.read_csv('credit_card_fraud_dataset/fraudTrain.csv')\n",
    "data = pd.DataFrame(data) # загрузка данных в  DataFrame\n",
    "display(data.head()) #вывод таблицы"
   ]
  },
  {
   "cell_type": "markdown",
   "id": "27012168",
   "metadata": {},
   "source": [
    "##  2. Проверка пропущенных значений (df.isnull().sum())  "
   ]
  },
  {
   "cell_type": "code",
   "execution_count": 2,
   "id": "b7281c00",
   "metadata": {},
   "outputs": [
    {
     "name": "stdout",
     "output_type": "stream",
     "text": [
      "Unnamed: 0               0\n",
      "trans_date_trans_time    0\n",
      "cc_num                   0\n",
      "merchant                 0\n",
      "category                 0\n",
      "amt                      0\n",
      "first                    0\n",
      "last                     0\n",
      "gender                   0\n",
      "street                   0\n",
      "city                     0\n",
      "state                    0\n",
      "zip                      0\n",
      "lat                      0\n",
      "long                     0\n",
      "city_pop                 0\n",
      "job                      0\n",
      "dob                      0\n",
      "trans_num                0\n",
      "unix_time                0\n",
      "merch_lat                0\n",
      "merch_long               0\n",
      "is_fraud                 0\n",
      "dtype: int64\n",
      "47.52\n"
     ]
    }
   ],
   "source": [
    "print(data.isna().sum()) #Вывод: В таблице нет пропущенных значений\n",
    "\n",
    "#Если бы в колонках были пропущенные значения, то при необходимости:\n",
    "## Их можно заполнить нулем\n",
    "data['amt'] = data['amt'].fillna(0) \n",
    "\n",
    "## Заполнить медианным значением для числовых данных с выбросами или асимметричным распределением без сложных зависимостей\n",
    "mediana = data['amt'].median()\n",
    "print(mediana)\n",
    "data['amt'] = data['amt'].fillna(mediana)\n",
    "\n",
    "## Или удалить\n",
    "data = data.dropna(subset=['amt', 'trans_num']) #метод .dropna() для удаления пропусков, параметр subset для указания столбцов, где искать пропуски\n"
   ]
  },
  {
   "cell_type": "code",
   "execution_count": 3,
   "id": "c39577ae",
   "metadata": {},
   "outputs": [
    {
     "name": "stdout",
     "output_type": "stream",
     "text": [
      "0\n"
     ]
    }
   ],
   "source": [
    "# Проверка на наличие дублекатов\n",
    "print(data.duplicated().sum())\n",
    "\n",
    "# Дублекатов нет"
   ]
  },
  {
   "cell_type": "markdown",
   "id": "206c36ca",
   "metadata": {},
   "source": [
    "## 3. Проверка типов данных и преобразование (datetime, float, int)  "
   ]
  },
  {
   "cell_type": "code",
   "execution_count": 4,
   "id": "db5cf770",
   "metadata": {},
   "outputs": [
    {
     "name": "stdout",
     "output_type": "stream",
     "text": [
      "<class 'pandas.core.frame.DataFrame'>\n",
      "RangeIndex: 1296675 entries, 0 to 1296674\n",
      "Data columns (total 23 columns):\n",
      " #   Column                 Non-Null Count    Dtype  \n",
      "---  ------                 --------------    -----  \n",
      " 0   Unnamed: 0             1296675 non-null  int64  \n",
      " 1   trans_date_trans_time  1296675 non-null  object \n",
      " 2   cc_num                 1296675 non-null  int64  \n",
      " 3   merchant               1296675 non-null  object \n",
      " 4   category               1296675 non-null  object \n",
      " 5   amt                    1296675 non-null  float64\n",
      " 6   first                  1296675 non-null  object \n",
      " 7   last                   1296675 non-null  object \n",
      " 8   gender                 1296675 non-null  object \n",
      " 9   street                 1296675 non-null  object \n",
      " 10  city                   1296675 non-null  object \n",
      " 11  state                  1296675 non-null  object \n",
      " 12  zip                    1296675 non-null  int64  \n",
      " 13  lat                    1296675 non-null  float64\n",
      " 14  long                   1296675 non-null  float64\n",
      " 15  city_pop               1296675 non-null  int64  \n",
      " 16  job                    1296675 non-null  object \n",
      " 17  dob                    1296675 non-null  object \n",
      " 18  trans_num              1296675 non-null  object \n",
      " 19  unix_time              1296675 non-null  int64  \n",
      " 20  merch_lat              1296675 non-null  float64\n",
      " 21  merch_long             1296675 non-null  float64\n",
      " 22  is_fraud               1296675 non-null  int64  \n",
      "dtypes: float64(5), int64(6), object(12)\n",
      "memory usage: 227.5+ MB\n",
      "None\n"
     ]
    }
   ],
   "source": [
    "print(data.info()) #вывод информации о датасете"
   ]
  },
  {
   "cell_type": "code",
   "execution_count": 5,
   "id": "d6a128ad",
   "metadata": {},
   "outputs": [],
   "source": [
    "data['trans_date_trans_time'] = pd.to_datetime(data['trans_date_trans_time'], errors='coerce') #перевод Transaction datetime типа object в datetime\n",
    "data['dob'] = pd.to_datetime(data['dob'], errors='coerce') #перевод Date of birth типа object в datetime\n",
    "data['dob'] = data['dob'].dt.date #округдляем Date of birth до даты\n",
    "# остальные данные подходящего типа"
   ]
  },
  {
   "cell_type": "markdown",
   "id": "ce1de366",
   "metadata": {},
   "source": [
    "**Итог**:  \n",
    "1. Загрузила данные в Pandas\n",
    "2. Проанализировала пропущенные значения, датасет не содержит пропусков.  \n",
    "3. Проверила и скорректировала типы данных"
   ]
  },
  {
   "cell_type": "markdown",
   "id": "a3368c11",
   "metadata": {},
   "source": [
    "## 4. Распределение сумм транзакций"
   ]
  },
  {
   "cell_type": "code",
   "execution_count": 6,
   "id": "45c6f1d2",
   "metadata": {},
   "outputs": [
    {
     "name": "stdout",
     "output_type": "stream",
     "text": [
      "count    1.296675e+06\n",
      "mean     7.035104e+01\n",
      "std      1.603160e+02\n",
      "min      1.000000e+00\n",
      "25%      9.650000e+00\n",
      "50%      4.752000e+01\n",
      "75%      8.314000e+01\n",
      "max      2.894890e+04\n",
      "Name: amt, dtype: float64\n"
     ]
    }
   ],
   "source": [
    "print(data['amt'].describe()) "
   ]
  },
  {
   "cell_type": "markdown",
   "id": "cbf1b496",
   "metadata": {},
   "source": [
    "**Выводы**:\n",
    "- Данные имеют большой разброс: от 1 до 28 948.90\n",
    "- Стандартное отклонение (std) составляет 160.32, что указывает на значительный разброс данных вокруг среднего. Это говорит о том, что значения в столбце сильно варьируются.\n",
    "- Медиана (47.52) значительно меньше среднего (70.35), что указывает на правостороннюю асимметрию (скошенность) распределения. Это означает, что в данных есть выбросы или экстремально большие значения, которые \"тянут\" среднее вверх.\n",
    "- Данные имеют большой разброс и асимметрию.\n",
    "\n",
    "Для более детального анализа можно рассмотреть распределение данных, а также проверить наличие выбросов."
   ]
  },
  {
   "cell_type": "code",
   "execution_count": 7,
   "id": "a48dbdba",
   "metadata": {},
   "outputs": [
    {
     "ename": "ImportError",
     "evalue": "DLL load failed while importing _iterative: Не найден указанный модуль.",
     "output_type": "error",
     "traceback": [
      "\u001b[1;31m---------------------------------------------------------------------------\u001b[0m",
      "\u001b[1;31mImportError\u001b[0m                               Traceback (most recent call last)",
      "\u001b[1;32m~\\AppData\\Local\\Temp\\ipykernel_15668\\1507449738.py\u001b[0m in \u001b[0;36m<module>\u001b[1;34m\u001b[0m\n\u001b[1;32m----> 1\u001b[1;33m \u001b[1;32mimport\u001b[0m \u001b[0mseaborn\u001b[0m \u001b[1;32mas\u001b[0m \u001b[0msns\u001b[0m\u001b[1;33m\u001b[0m\u001b[1;33m\u001b[0m\u001b[0m\n\u001b[0m\u001b[0;32m      2\u001b[0m \u001b[1;32mimport\u001b[0m \u001b[0mmatplotlib\u001b[0m\u001b[1;33m.\u001b[0m\u001b[0mpyplot\u001b[0m \u001b[1;32mas\u001b[0m \u001b[0mplt\u001b[0m\u001b[1;33m\u001b[0m\u001b[1;33m\u001b[0m\u001b[0m\n\u001b[0;32m      3\u001b[0m \u001b[1;33m\u001b[0m\u001b[0m\n\u001b[0;32m      4\u001b[0m \u001b[1;31m# Построение гистограммы\u001b[0m\u001b[1;33m\u001b[0m\u001b[1;33m\u001b[0m\u001b[0m\n\u001b[0;32m      5\u001b[0m \u001b[0msns\u001b[0m\u001b[1;33m.\u001b[0m\u001b[0mhistplot\u001b[0m\u001b[1;33m(\u001b[0m\u001b[0mdata\u001b[0m\u001b[1;33m[\u001b[0m\u001b[1;34m'amt'\u001b[0m\u001b[1;33m]\u001b[0m\u001b[1;33m,\u001b[0m \u001b[0mbins\u001b[0m\u001b[1;33m=\u001b[0m\u001b[1;36m50\u001b[0m\u001b[1;33m)\u001b[0m\u001b[1;33m\u001b[0m\u001b[1;33m\u001b[0m\u001b[0m\n",
      "\u001b[1;32m~\\anaconda3\\lib\\site-packages\\seaborn\\__init__.py\u001b[0m in \u001b[0;36m<module>\u001b[1;34m\u001b[0m\n\u001b[0;32m      1\u001b[0m \u001b[1;31m# Import seaborn objects\u001b[0m\u001b[1;33m\u001b[0m\u001b[1;33m\u001b[0m\u001b[0m\n\u001b[1;32m----> 2\u001b[1;33m \u001b[1;32mfrom\u001b[0m \u001b[1;33m.\u001b[0m\u001b[0mrcmod\u001b[0m \u001b[1;32mimport\u001b[0m \u001b[1;33m*\u001b[0m  \u001b[1;31m# noqa: F401,F403\u001b[0m\u001b[1;33m\u001b[0m\u001b[1;33m\u001b[0m\u001b[0m\n\u001b[0m\u001b[0;32m      3\u001b[0m \u001b[1;32mfrom\u001b[0m \u001b[1;33m.\u001b[0m\u001b[0mutils\u001b[0m \u001b[1;32mimport\u001b[0m \u001b[1;33m*\u001b[0m  \u001b[1;31m# noqa: F401,F403\u001b[0m\u001b[1;33m\u001b[0m\u001b[1;33m\u001b[0m\u001b[0m\n\u001b[0;32m      4\u001b[0m \u001b[1;32mfrom\u001b[0m \u001b[1;33m.\u001b[0m\u001b[0mpalettes\u001b[0m \u001b[1;32mimport\u001b[0m \u001b[1;33m*\u001b[0m  \u001b[1;31m# noqa: F401,F403\u001b[0m\u001b[1;33m\u001b[0m\u001b[1;33m\u001b[0m\u001b[0m\n\u001b[0;32m      5\u001b[0m \u001b[1;32mfrom\u001b[0m \u001b[1;33m.\u001b[0m\u001b[0mrelational\u001b[0m \u001b[1;32mimport\u001b[0m \u001b[1;33m*\u001b[0m  \u001b[1;31m# noqa: F401,F403\u001b[0m\u001b[1;33m\u001b[0m\u001b[1;33m\u001b[0m\u001b[0m\n",
      "\u001b[1;32m~\\anaconda3\\lib\\site-packages\\seaborn\\rcmod.py\u001b[0m in \u001b[0;36m<module>\u001b[1;34m\u001b[0m\n\u001b[0;32m      5\u001b[0m \u001b[1;32mimport\u001b[0m \u001b[0mmatplotlib\u001b[0m \u001b[1;32mas\u001b[0m \u001b[0mmpl\u001b[0m\u001b[1;33m\u001b[0m\u001b[1;33m\u001b[0m\u001b[0m\n\u001b[0;32m      6\u001b[0m \u001b[1;32mfrom\u001b[0m \u001b[0mcycler\u001b[0m \u001b[1;32mimport\u001b[0m \u001b[0mcycler\u001b[0m\u001b[1;33m\u001b[0m\u001b[1;33m\u001b[0m\u001b[0m\n\u001b[1;32m----> 7\u001b[1;33m \u001b[1;32mfrom\u001b[0m \u001b[1;33m.\u001b[0m \u001b[1;32mimport\u001b[0m \u001b[0mpalettes\u001b[0m\u001b[1;33m\u001b[0m\u001b[1;33m\u001b[0m\u001b[0m\n\u001b[0m\u001b[0;32m      8\u001b[0m \u001b[1;33m\u001b[0m\u001b[0m\n\u001b[0;32m      9\u001b[0m \u001b[1;33m\u001b[0m\u001b[0m\n",
      "\u001b[1;32m~\\anaconda3\\lib\\site-packages\\seaborn\\palettes.py\u001b[0m in \u001b[0;36m<module>\u001b[1;34m\u001b[0m\n\u001b[0;32m      7\u001b[0m \u001b[1;32mfrom\u001b[0m \u001b[1;33m.\u001b[0m\u001b[0mexternal\u001b[0m \u001b[1;32mimport\u001b[0m \u001b[0mhusl\u001b[0m\u001b[1;33m\u001b[0m\u001b[1;33m\u001b[0m\u001b[0m\n\u001b[0;32m      8\u001b[0m \u001b[1;33m\u001b[0m\u001b[0m\n\u001b[1;32m----> 9\u001b[1;33m \u001b[1;32mfrom\u001b[0m \u001b[1;33m.\u001b[0m\u001b[0mutils\u001b[0m \u001b[1;32mimport\u001b[0m \u001b[0mdesaturate\u001b[0m\u001b[1;33m,\u001b[0m \u001b[0mget_color_cycle\u001b[0m\u001b[1;33m\u001b[0m\u001b[1;33m\u001b[0m\u001b[0m\n\u001b[0m\u001b[0;32m     10\u001b[0m \u001b[1;32mfrom\u001b[0m \u001b[1;33m.\u001b[0m\u001b[0mcolors\u001b[0m \u001b[1;32mimport\u001b[0m \u001b[0mxkcd_rgb\u001b[0m\u001b[1;33m,\u001b[0m \u001b[0mcrayons\u001b[0m\u001b[1;33m\u001b[0m\u001b[1;33m\u001b[0m\u001b[0m\n\u001b[0;32m     11\u001b[0m \u001b[1;33m\u001b[0m\u001b[0m\n",
      "\u001b[1;32m~\\anaconda3\\lib\\site-packages\\seaborn\\utils.py\u001b[0m in \u001b[0;36m<module>\u001b[1;34m\u001b[0m\n\u001b[0;32m      8\u001b[0m \u001b[1;33m\u001b[0m\u001b[0m\n\u001b[0;32m      9\u001b[0m \u001b[1;32mimport\u001b[0m \u001b[0mnumpy\u001b[0m \u001b[1;32mas\u001b[0m \u001b[0mnp\u001b[0m\u001b[1;33m\u001b[0m\u001b[1;33m\u001b[0m\u001b[0m\n\u001b[1;32m---> 10\u001b[1;33m \u001b[1;32mfrom\u001b[0m \u001b[0mscipy\u001b[0m \u001b[1;32mimport\u001b[0m \u001b[0mstats\u001b[0m\u001b[1;33m\u001b[0m\u001b[1;33m\u001b[0m\u001b[0m\n\u001b[0m\u001b[0;32m     11\u001b[0m \u001b[1;32mimport\u001b[0m \u001b[0mpandas\u001b[0m \u001b[1;32mas\u001b[0m \u001b[0mpd\u001b[0m\u001b[1;33m\u001b[0m\u001b[1;33m\u001b[0m\u001b[0m\n\u001b[0;32m     12\u001b[0m \u001b[1;32mimport\u001b[0m \u001b[0mmatplotlib\u001b[0m \u001b[1;32mas\u001b[0m \u001b[0mmpl\u001b[0m\u001b[1;33m\u001b[0m\u001b[1;33m\u001b[0m\u001b[0m\n",
      "\u001b[1;32m~\\anaconda3\\lib\\site-packages\\scipy\\stats\\__init__.py\u001b[0m in \u001b[0;36m<module>\u001b[1;34m\u001b[0m\n\u001b[0;32m    483\u001b[0m from ._warnings_errors import (ConstantInputWarning, NearConstantInputWarning,\n\u001b[0;32m    484\u001b[0m                                DegenerateDataWarning, FitError)\n\u001b[1;32m--> 485\u001b[1;33m \u001b[1;32mfrom\u001b[0m \u001b[1;33m.\u001b[0m\u001b[0m_stats_py\u001b[0m \u001b[1;32mimport\u001b[0m \u001b[1;33m*\u001b[0m\u001b[1;33m\u001b[0m\u001b[1;33m\u001b[0m\u001b[0m\n\u001b[0m\u001b[0;32m    486\u001b[0m \u001b[1;32mfrom\u001b[0m \u001b[1;33m.\u001b[0m\u001b[0m_variation\u001b[0m \u001b[1;32mimport\u001b[0m \u001b[0mvariation\u001b[0m\u001b[1;33m\u001b[0m\u001b[1;33m\u001b[0m\u001b[0m\n\u001b[0;32m    487\u001b[0m \u001b[1;32mfrom\u001b[0m \u001b[1;33m.\u001b[0m\u001b[0mdistributions\u001b[0m \u001b[1;32mimport\u001b[0m \u001b[1;33m*\u001b[0m\u001b[1;33m\u001b[0m\u001b[1;33m\u001b[0m\u001b[0m\n",
      "\u001b[1;32m~\\anaconda3\\lib\\site-packages\\scipy\\stats\\_stats_py.py\u001b[0m in \u001b[0;36m<module>\u001b[1;34m\u001b[0m\n\u001b[0;32m     37\u001b[0m \u001b[1;32mfrom\u001b[0m \u001b[0mnumpy\u001b[0m\u001b[1;33m.\u001b[0m\u001b[0mtesting\u001b[0m \u001b[1;32mimport\u001b[0m \u001b[0msuppress_warnings\u001b[0m\u001b[1;33m\u001b[0m\u001b[1;33m\u001b[0m\u001b[0m\n\u001b[0;32m     38\u001b[0m \u001b[1;33m\u001b[0m\u001b[0m\n\u001b[1;32m---> 39\u001b[1;33m \u001b[1;32mfrom\u001b[0m \u001b[0mscipy\u001b[0m\u001b[1;33m.\u001b[0m\u001b[0mspatial\u001b[0m\u001b[1;33m.\u001b[0m\u001b[0mdistance\u001b[0m \u001b[1;32mimport\u001b[0m \u001b[0mcdist\u001b[0m\u001b[1;33m\u001b[0m\u001b[1;33m\u001b[0m\u001b[0m\n\u001b[0m\u001b[0;32m     40\u001b[0m \u001b[1;32mfrom\u001b[0m \u001b[0mscipy\u001b[0m\u001b[1;33m.\u001b[0m\u001b[0mndimage\u001b[0m \u001b[1;32mimport\u001b[0m \u001b[0m_measurements\u001b[0m\u001b[1;33m\u001b[0m\u001b[1;33m\u001b[0m\u001b[0m\n\u001b[0;32m     41\u001b[0m from scipy._lib._util import (check_random_state, MapWrapper,\n",
      "\u001b[1;32m~\\anaconda3\\lib\\site-packages\\scipy\\spatial\\__init__.py\u001b[0m in \u001b[0;36m<module>\u001b[1;34m\u001b[0m\n\u001b[0;32m    103\u001b[0m \"\"\"\n\u001b[0;32m    104\u001b[0m \u001b[1;33m\u001b[0m\u001b[0m\n\u001b[1;32m--> 105\u001b[1;33m \u001b[1;32mfrom\u001b[0m \u001b[1;33m.\u001b[0m\u001b[0m_kdtree\u001b[0m \u001b[1;32mimport\u001b[0m \u001b[1;33m*\u001b[0m\u001b[1;33m\u001b[0m\u001b[1;33m\u001b[0m\u001b[0m\n\u001b[0m\u001b[0;32m    106\u001b[0m \u001b[1;32mfrom\u001b[0m \u001b[1;33m.\u001b[0m\u001b[0m_ckdtree\u001b[0m \u001b[1;32mimport\u001b[0m \u001b[1;33m*\u001b[0m\u001b[1;33m\u001b[0m\u001b[1;33m\u001b[0m\u001b[0m\n\u001b[0;32m    107\u001b[0m \u001b[1;32mfrom\u001b[0m \u001b[1;33m.\u001b[0m\u001b[0m_qhull\u001b[0m \u001b[1;32mimport\u001b[0m \u001b[1;33m*\u001b[0m\u001b[1;33m\u001b[0m\u001b[1;33m\u001b[0m\u001b[0m\n",
      "\u001b[1;32m~\\anaconda3\\lib\\site-packages\\scipy\\spatial\\_kdtree.py\u001b[0m in \u001b[0;36m<module>\u001b[1;34m\u001b[0m\n\u001b[0;32m      2\u001b[0m \u001b[1;31m# Released under the scipy license\u001b[0m\u001b[1;33m\u001b[0m\u001b[1;33m\u001b[0m\u001b[0m\n\u001b[0;32m      3\u001b[0m \u001b[1;32mimport\u001b[0m \u001b[0mnumpy\u001b[0m \u001b[1;32mas\u001b[0m \u001b[0mnp\u001b[0m\u001b[1;33m\u001b[0m\u001b[1;33m\u001b[0m\u001b[0m\n\u001b[1;32m----> 4\u001b[1;33m \u001b[1;32mfrom\u001b[0m \u001b[1;33m.\u001b[0m\u001b[0m_ckdtree\u001b[0m \u001b[1;32mimport\u001b[0m \u001b[0mcKDTree\u001b[0m\u001b[1;33m,\u001b[0m \u001b[0mcKDTreeNode\u001b[0m\u001b[1;33m\u001b[0m\u001b[1;33m\u001b[0m\u001b[0m\n\u001b[0m\u001b[0;32m      5\u001b[0m \u001b[1;33m\u001b[0m\u001b[0m\n\u001b[0;32m      6\u001b[0m __all__ = ['minkowski_distance_p', 'minkowski_distance',\n",
      "\u001b[1;32m_ckdtree.pyx\u001b[0m in \u001b[0;36minit scipy.spatial._ckdtree\u001b[1;34m()\u001b[0m\n",
      "\u001b[1;32m~\\anaconda3\\lib\\site-packages\\scipy\\sparse\\__init__.py\u001b[0m in \u001b[0;36m<module>\u001b[1;34m\u001b[0m\n\u001b[0;32m    281\u001b[0m \u001b[1;33m\u001b[0m\u001b[0m\n\u001b[0;32m    282\u001b[0m \u001b[1;31m# For backward compatibility with v0.19.\u001b[0m\u001b[1;33m\u001b[0m\u001b[1;33m\u001b[0m\u001b[0m\n\u001b[1;32m--> 283\u001b[1;33m \u001b[1;32mfrom\u001b[0m \u001b[1;33m.\u001b[0m \u001b[1;32mimport\u001b[0m \u001b[0mcsgraph\u001b[0m\u001b[1;33m\u001b[0m\u001b[1;33m\u001b[0m\u001b[0m\n\u001b[0m\u001b[0;32m    284\u001b[0m \u001b[1;33m\u001b[0m\u001b[0m\n\u001b[0;32m    285\u001b[0m \u001b[1;31m# Deprecated namespaces, to be removed in v2.0.0\u001b[0m\u001b[1;33m\u001b[0m\u001b[1;33m\u001b[0m\u001b[0m\n",
      "\u001b[1;32m~\\anaconda3\\lib\\site-packages\\scipy\\sparse\\csgraph\\__init__.py\u001b[0m in \u001b[0;36m<module>\u001b[1;34m\u001b[0m\n\u001b[0;32m    183\u001b[0m            'NegativeCycleError']\n\u001b[0;32m    184\u001b[0m \u001b[1;33m\u001b[0m\u001b[0m\n\u001b[1;32m--> 185\u001b[1;33m \u001b[1;32mfrom\u001b[0m \u001b[1;33m.\u001b[0m\u001b[0m_laplacian\u001b[0m \u001b[1;32mimport\u001b[0m \u001b[0mlaplacian\u001b[0m\u001b[1;33m\u001b[0m\u001b[1;33m\u001b[0m\u001b[0m\n\u001b[0m\u001b[0;32m    186\u001b[0m from ._shortest_path import (\n\u001b[0;32m    187\u001b[0m     \u001b[0mshortest_path\u001b[0m\u001b[1;33m,\u001b[0m \u001b[0mfloyd_warshall\u001b[0m\u001b[1;33m,\u001b[0m \u001b[0mdijkstra\u001b[0m\u001b[1;33m,\u001b[0m \u001b[0mbellman_ford\u001b[0m\u001b[1;33m,\u001b[0m \u001b[0mjohnson\u001b[0m\u001b[1;33m,\u001b[0m\u001b[1;33m\u001b[0m\u001b[1;33m\u001b[0m\u001b[0m\n",
      "\u001b[1;32m~\\anaconda3\\lib\\site-packages\\scipy\\sparse\\csgraph\\_laplacian.py\u001b[0m in \u001b[0;36m<module>\u001b[1;34m\u001b[0m\n\u001b[0;32m      5\u001b[0m \u001b[1;32mimport\u001b[0m \u001b[0mnumpy\u001b[0m \u001b[1;32mas\u001b[0m \u001b[0mnp\u001b[0m\u001b[1;33m\u001b[0m\u001b[1;33m\u001b[0m\u001b[0m\n\u001b[0;32m      6\u001b[0m \u001b[1;32mfrom\u001b[0m \u001b[0mscipy\u001b[0m\u001b[1;33m.\u001b[0m\u001b[0msparse\u001b[0m \u001b[1;32mimport\u001b[0m \u001b[0misspmatrix\u001b[0m\u001b[1;33m\u001b[0m\u001b[1;33m\u001b[0m\u001b[0m\n\u001b[1;32m----> 7\u001b[1;33m \u001b[1;32mfrom\u001b[0m \u001b[0mscipy\u001b[0m\u001b[1;33m.\u001b[0m\u001b[0msparse\u001b[0m\u001b[1;33m.\u001b[0m\u001b[0mlinalg\u001b[0m \u001b[1;32mimport\u001b[0m \u001b[0mLinearOperator\u001b[0m\u001b[1;33m\u001b[0m\u001b[1;33m\u001b[0m\u001b[0m\n\u001b[0m\u001b[0;32m      8\u001b[0m \u001b[1;33m\u001b[0m\u001b[0m\n\u001b[0;32m      9\u001b[0m \u001b[1;33m\u001b[0m\u001b[0m\n",
      "\u001b[1;32m~\\anaconda3\\lib\\site-packages\\scipy\\sparse\\linalg\\__init__.py\u001b[0m in \u001b[0;36m<module>\u001b[1;34m\u001b[0m\n\u001b[0;32m    118\u001b[0m \"\"\"\n\u001b[0;32m    119\u001b[0m \u001b[1;33m\u001b[0m\u001b[0m\n\u001b[1;32m--> 120\u001b[1;33m \u001b[1;32mfrom\u001b[0m \u001b[1;33m.\u001b[0m\u001b[0m_isolve\u001b[0m \u001b[1;32mimport\u001b[0m \u001b[1;33m*\u001b[0m\u001b[1;33m\u001b[0m\u001b[1;33m\u001b[0m\u001b[0m\n\u001b[0m\u001b[0;32m    121\u001b[0m \u001b[1;32mfrom\u001b[0m \u001b[1;33m.\u001b[0m\u001b[0m_dsolve\u001b[0m \u001b[1;32mimport\u001b[0m \u001b[1;33m*\u001b[0m\u001b[1;33m\u001b[0m\u001b[1;33m\u001b[0m\u001b[0m\n\u001b[0;32m    122\u001b[0m \u001b[1;32mfrom\u001b[0m \u001b[1;33m.\u001b[0m\u001b[0m_interface\u001b[0m \u001b[1;32mimport\u001b[0m \u001b[1;33m*\u001b[0m\u001b[1;33m\u001b[0m\u001b[1;33m\u001b[0m\u001b[0m\n",
      "\u001b[1;32m~\\anaconda3\\lib\\site-packages\\scipy\\sparse\\linalg\\_isolve\\__init__.py\u001b[0m in \u001b[0;36m<module>\u001b[1;34m\u001b[0m\n\u001b[0;32m      2\u001b[0m \u001b[1;33m\u001b[0m\u001b[0m\n\u001b[0;32m      3\u001b[0m \u001b[1;31m#from info import __doc__\u001b[0m\u001b[1;33m\u001b[0m\u001b[1;33m\u001b[0m\u001b[0m\n\u001b[1;32m----> 4\u001b[1;33m \u001b[1;32mfrom\u001b[0m \u001b[1;33m.\u001b[0m\u001b[0miterative\u001b[0m \u001b[1;32mimport\u001b[0m \u001b[1;33m*\u001b[0m\u001b[1;33m\u001b[0m\u001b[1;33m\u001b[0m\u001b[0m\n\u001b[0m\u001b[0;32m      5\u001b[0m \u001b[1;32mfrom\u001b[0m \u001b[1;33m.\u001b[0m\u001b[0mminres\u001b[0m \u001b[1;32mimport\u001b[0m \u001b[0mminres\u001b[0m\u001b[1;33m\u001b[0m\u001b[1;33m\u001b[0m\u001b[0m\n\u001b[0;32m      6\u001b[0m \u001b[1;32mfrom\u001b[0m \u001b[1;33m.\u001b[0m\u001b[0mlgmres\u001b[0m \u001b[1;32mimport\u001b[0m \u001b[0mlgmres\u001b[0m\u001b[1;33m\u001b[0m\u001b[1;33m\u001b[0m\u001b[0m\n",
      "\u001b[1;32m~\\anaconda3\\lib\\site-packages\\scipy\\sparse\\linalg\\_isolve\\iterative.py\u001b[0m in \u001b[0;36m<module>\u001b[1;34m\u001b[0m\n\u001b[0;32m      7\u001b[0m \u001b[1;32mimport\u001b[0m \u001b[0mnumpy\u001b[0m \u001b[1;32mas\u001b[0m \u001b[0mnp\u001b[0m\u001b[1;33m\u001b[0m\u001b[1;33m\u001b[0m\u001b[0m\n\u001b[0;32m      8\u001b[0m \u001b[1;33m\u001b[0m\u001b[0m\n\u001b[1;32m----> 9\u001b[1;33m \u001b[1;32mfrom\u001b[0m \u001b[1;33m.\u001b[0m \u001b[1;32mimport\u001b[0m \u001b[0m_iterative\u001b[0m\u001b[1;33m\u001b[0m\u001b[1;33m\u001b[0m\u001b[0m\n\u001b[0m\u001b[0;32m     10\u001b[0m \u001b[1;33m\u001b[0m\u001b[0m\n\u001b[0;32m     11\u001b[0m \u001b[1;32mfrom\u001b[0m \u001b[0mscipy\u001b[0m\u001b[1;33m.\u001b[0m\u001b[0msparse\u001b[0m\u001b[1;33m.\u001b[0m\u001b[0mlinalg\u001b[0m\u001b[1;33m.\u001b[0m\u001b[0m_interface\u001b[0m \u001b[1;32mimport\u001b[0m \u001b[0mLinearOperator\u001b[0m\u001b[1;33m\u001b[0m\u001b[1;33m\u001b[0m\u001b[0m\n",
      "\u001b[1;31mImportError\u001b[0m: DLL load failed while importing _iterative: Не найден указанный модуль."
     ]
    }
   ],
   "source": [
    "import seaborn as sns\n",
    "import matplotlib.pyplot as plt\n",
    "\n",
    "# Построение гистограммы\n",
    "sns.histplot(data['amt'], bins=50)\n",
    "plt.title('Распределение суммы транзакций')\n",
    "plt.xlabel('Сумма (amt)')\n",
    "plt.ylabel('Плотность')\n",
    "plt.show()"
   ]
  },
  {
   "cell_type": "markdown",
   "id": "64354129",
   "metadata": {},
   "source": [
    "Разброс данных высок. Линейный масштаб делает визуализацию нечитаемой. Для более детального анализа данных применить логарифмирование."
   ]
  },
  {
   "cell_type": "code",
   "execution_count": null,
   "id": "936f5a49",
   "metadata": {},
   "outputs": [],
   "source": [
    "# Построение гистограммы для логарифмированных данных\n",
    "# Логарифмическое преобразование\n",
    "import numpy as np\n",
    "data['amt_log'] = np.log10(data['amt'] + 1)  # +1 чтобы избежать log(0)\n",
    "sns.histplot(data['amt_log'], bins=50)\n",
    "plt.title('Распределение суммы транзакций (логарифмическая шкала)')\n",
    "plt.xlabel('Логарифм суммы (amt)')\n",
    "plt.ylabel('Плотность')\n",
    "plt.show()"
   ]
  },
  {
   "cell_type": "markdown",
   "id": "df1040d0",
   "metadata": {},
   "source": [
    "Вывод: распределение не нормальное, на гистограмме два пика: log(amt) = 1 и log(amt) = 2. Большинство значений amt находятся около log(amt) = 2.\n",
    "Есть выбросы, находящиеся на промежутке от log(amt) = 3 до log(amt) = 4.  \n",
    "- если log(amt) = 1, то amt = 10\n",
    "- если log(amt) = 2, то amt = 100  \n",
    "- если log(amt) = 3, то amt = 1000  \n",
    "- если log(amt) = 4, то amt = 10000  "
   ]
  },
  {
   "cell_type": "code",
   "execution_count": null,
   "id": "e9f0bed0",
   "metadata": {},
   "outputs": [],
   "source": [
    "#вывод топ10 транзакций с самым большим чеком в виде \"индекс - значение\"\n",
    "top_10 = data['amt'].nlargest(10)\n",
    "print(top_10)"
   ]
  },
  {
   "cell_type": "code",
   "execution_count": null,
   "id": "cad01cd8",
   "metadata": {},
   "outputs": [],
   "source": [
    "# Топ-10 клиентов с наибольшими тратами \n",
    "big_clients = data.groupby('cc_num')['amt'].sum().sort_values(ascending=False).head(10)\n",
    "\n",
    "# Проходим по каждому клиенту из топ-10\n",
    "for cc_num in big_clients.index:\n",
    "    # Находим все строки, где cc_num совпадает с текущим клиентом\n",
    "    client_data = data[data['cc_num'] == cc_num]\n",
    "    \n",
    "    # Берем имя и фамилию из первой строки (предполагаем, что они одинаковы для одного cc_num)\n",
    "    first_name = client_data['first'].iloc[0] # .iloc[0] для получения одного первого значения из этих столбцов\n",
    "    last_name = client_data['last'].iloc[0]\n",
    "    \n",
    "    # Выводим результат\n",
    "    print(f'Клиент: {first_name} {last_name}, Сумма покупок: {big_clients[cc_num]}')"
   ]
  },
  {
   "cell_type": "markdown",
   "id": "e290493c",
   "metadata": {},
   "source": [
    "## 5. Популярные категории транзакций"
   ]
  },
  {
   "cell_type": "code",
   "execution_count": null,
   "id": "5c4b4b33",
   "metadata": {},
   "outputs": [],
   "source": [
    "print(data['category'].value_counts())"
   ]
  },
  {
   "cell_type": "code",
   "execution_count": null,
   "id": "86ce9277",
   "metadata": {},
   "outputs": [],
   "source": [
    "sns.countplot(y=data['category'], order=data['category'].value_counts().index)\n",
    "plt.title('Категории транзакций по популярности')\n",
    "plt.xlabel('Количество')\n",
    "plt.ylabel('Категория')"
   ]
  },
  {
   "cell_type": "markdown",
   "id": "b470e2e0",
   "metadata": {},
   "source": [
    "Самая популярная категория по кол-ву транзакций — **gas_transport**. Меньше всего транзакций по категории **travel**."
   ]
  },
  {
   "cell_type": "code",
   "execution_count": null,
   "id": "78a4da25",
   "metadata": {},
   "outputs": [],
   "source": [
    "# Средняя сумма покупок по категориям\n",
    "data.groupby('category')['amt'].mean().sort_values(ascending=False)"
   ]
  },
  {
   "cell_type": "markdown",
   "id": "358f79f6",
   "metadata": {},
   "source": [
    "Хоть и категория travel самая непопулярная, она в топ2 по среднему чеку (111.51). Категория grocery_pos отличается самым большим средним чеком (116.96) и находится в топ2 по количеству транзакций. В этих категориях клиентами может быть востребован кешбэк."
   ]
  },
  {
   "cell_type": "markdown",
   "id": "39d0adfb",
   "metadata": {},
   "source": [
    "## 6. Анализ по времени"
   ]
  },
  {
   "cell_type": "code",
   "execution_count": null,
   "id": "082023d7",
   "metadata": {},
   "outputs": [],
   "source": [
    "# Вычисление временных границ датасета\n",
    "print(data['trans_date_trans_time'].min()) \n",
    "print(data['trans_date_trans_time'].max())"
   ]
  },
  {
   "cell_type": "markdown",
   "id": "9e58206d",
   "metadata": {},
   "source": [
    "В датасете представлены транзакции за период с 01.01.2019 по 21.06.2020."
   ]
  },
  {
   "cell_type": "code",
   "execution_count": null,
   "id": "901e0e3c",
   "metadata": {},
   "outputs": [],
   "source": [
    "# Визуализаия распределения транзакций по часам\n",
    "data['hour'] = data['trans_date_trans_time'].dt.hour\n",
    "sns.histplot(data['hour'], bins=24) #строим гистограмму с 24 столбцами (=24 часа в сутках) "
   ]
  },
  {
   "cell_type": "markdown",
   "id": "3f07f133",
   "metadata": {},
   "source": [
    "Распределение данных стремится равномерности на промежутках (с 0 до 11 часов) и (с 12 до 24 часов). Количество транзакций больше во второй половине дня. Больше всего транзакций совершается с 22 до 24 часов."
   ]
  },
  {
   "cell_type": "markdown",
   "id": "eb1947ec",
   "metadata": {},
   "source": [
    "# 2️⃣ Анализ мошенничества (is_fraud)"
   ]
  },
  {
   "cell_type": "markdown",
   "id": "1d52090d",
   "metadata": {},
   "source": [
    " 1. Распределение мошеннических и обычных транзакций  \n",
    " • data['is_fraud'].value_counts(normalize=True)  \n",
    " • sns.countplot(x='is_fraud', data=data)  \n",
    " \n",
    " \n",
    " 2. Какие категории чаще всего используются в мошенничестве?  \n",
    "data[data['is_fraud'] == 1]['category'].value_counts()  \n",
    "\n",
    "\n",
    " 3. Средний чек мошеннических транзакций  \n",
    "data.groupby('is_fraud')['amt'].describe()  \n",
    "\n",
    " 4. Связь времени суток и мошенничества  \n",
    "sns.histplot(data[data['is_fraud'] == 1]['hour'], bins=24, kde=True, color='red')  \n",
    "sns.histplot(data[data['is_fraud'] == 0]['hour'], bins=24, kde=True, color='blue')  "
   ]
  },
  {
   "cell_type": "markdown",
   "id": "391b4fbb",
   "metadata": {},
   "source": [
    " ## 1. Распределение мошеннических и обычных транзакций  "
   ]
  },
  {
   "cell_type": "code",
   "execution_count": null,
   "id": "d557fe62",
   "metadata": {},
   "outputs": [],
   "source": [
    "data['is_fraud'].value_counts(normalize=True) #normalize=True для выдачи долей\n",
    "sns.countplot(x='is_fraud', data=data)"
   ]
  },
  {
   "cell_type": "markdown",
   "id": "b3e1471f",
   "metadata": {},
   "source": [
    "Фрод составляет 0,5% всех записей, доля низкая."
   ]
  },
  {
   "cell_type": "markdown",
   "id": "53377f2d",
   "metadata": {},
   "source": [
    " ## 2. Какие категории чаще всего используются в мошенничестве?  "
   ]
  },
  {
   "cell_type": "code",
   "execution_count": null,
   "id": "2d32a24d",
   "metadata": {},
   "outputs": [],
   "source": [
    "# Вычисляем количество фрода по категориям\n",
    "data[data['is_fraud'] == 1]['category'].value_counts()"
   ]
  },
  {
   "cell_type": "code",
   "execution_count": null,
   "id": "994ed270",
   "metadata": {},
   "outputs": [],
   "source": [
    "# Дублируем общее количество транзакций по категориям\n",
    "print(data['category'].value_counts())"
   ]
  },
  {
   "cell_type": "markdown",
   "id": "0943fd25",
   "metadata": {},
   "source": [
    "Больше всего фрода в категории grocery_pos, что составляет менее 1,5% от общего количества транзакций в категории. Задачу по контролю объема фрода с текущей долей можно считать не приоритетной."
   ]
  },
  {
   "cell_type": "markdown",
   "id": "9e8e9067",
   "metadata": {},
   "source": [
    "## 3. Средний чек мошеннических транзакций  "
   ]
  },
  {
   "cell_type": "code",
   "execution_count": null,
   "id": "0bd4f8d4",
   "metadata": {},
   "outputs": [],
   "source": [
    "# Вычисление среднего чека фродовых транзакций\n",
    "round(data[data['is_fraud'] == 1]['amt'].mean(), 2)"
   ]
  },
  {
   "cell_type": "markdown",
   "id": "3a2dd84d",
   "metadata": {},
   "source": [
    "Средний чек фродовых транзакцй состаляет 531,32 у.е. Чтобы понять, как эта величина соотнсится с нефродовыми транзкциями, используем .describe()."
   ]
  },
  {
   "cell_type": "code",
   "execution_count": null,
   "id": "5815f224",
   "metadata": {
    "scrolled": true
   },
   "outputs": [],
   "source": [
    "data.groupby('is_fraud')['amt'].describe()"
   ]
  },
  {
   "cell_type": "markdown",
   "id": "637e75d7",
   "metadata": {},
   "source": [
    "**Общий вывод**:\n",
    "- Мошеннические транзакции встречаются редко, но их суммы значительно выше, чем у обычных транзакций.\n",
    "- Мошенники, вероятно, избегают слишком крупных транзакций, чтобы не привлекать внимание.\n",
    "-Средняя сумма мошеннических транзакций (531.32) и их распределение (высокие квартили) могут быть полезны для разработки правил обнаружения мошенничества. Например, можно настроить систему мониторинга для транзакций с суммой выше 245.66 (25% квартиль мошеннических транзакций)."
   ]
  },
  {
   "cell_type": "markdown",
   "id": "bce726fc",
   "metadata": {},
   "source": [
    "## 4. Связь времени суток и мошенничества  "
   ]
  },
  {
   "cell_type": "code",
   "execution_count": null,
   "id": "17756ac7",
   "metadata": {},
   "outputs": [],
   "source": [
    "# Гистограмма фрода по часам\n",
    "sns.histplot(data[data['is_fraud'] == 1]['hour'], bins=24, color='black')"
   ]
  },
  {
   "cell_type": "markdown",
   "id": "c6a836a2",
   "metadata": {},
   "source": [
    "Основные потоки фродовых транзакций приходятся на временные промежутки с 0 до 4 часов и с 22 до 24 часов."
   ]
  },
  {
   "cell_type": "code",
   "execution_count": null,
   "id": "1c38de69",
   "metadata": {},
   "outputs": [],
   "source": [
    "# Гистограмма не_фрода по часам\n",
    "sns.histplot(data[data['is_fraud'] == 0]['hour'], bins=24, color='green')"
   ]
  },
  {
   "cell_type": "markdown",
   "id": "4e2528e9",
   "metadata": {},
   "source": [
    "Распределение обычных транзакций по часам похоже на распределение транзакций в тотале, которое строили выше. Однако тогда выделили, что с 22 до 24 часов проходит бОльшее количество транзакций. По итогам анадиза фродовых и не фродовых операций выяснили. что предвышение количества операций во второй половине дня с 22 до 24 часов происходит из-за прироста фродовых операций.\n",
    "\n",
    "Эту информацию можно использовать для установки правил детекции фродовых транзакций, настроив фильтры по часам: с 0 до 4 часов и с 22 до 24 часов."
   ]
  },
  {
   "cell_type": "markdown",
   "id": "78594ed0",
   "metadata": {},
   "source": [
    "# Заключение по анализу датасета"
   ]
  },
  {
   "cell_type": "markdown",
   "id": "62a1f698",
   "metadata": {},
   "source": [
    "На основе проведенного анализа данных можно сделать следующие выводы.\n",
    "\n",
    "**Качество данных**:\n",
    "\n",
    "- Датасет не содержит пропущенных значений, что упрощает анализ.\n",
    "- Типы данных были проверены и скорректированы для корректности дальнейших вычислений.\n",
    "\n",
    "**Характеристики данных**:\n",
    "\n",
    "- Данные имеют значительный разброс: суммы транзакций варьируются от 1 до 28 948.90 у.е.\n",
    "- Стандартное отклонение (160.32) и разница между медианой (47.52) и средним значением (70.35) указывают на правостороннюю асимметрию распределения. Это свидетельствует о наличии выбросов или экстремально больших значений, которые влияют на среднее.\n",
    "- Логарифмирование данных позволило улучшить визуализацию и выявить два пика в распределении: большинство значений сосредоточено около log(amt) = 2, а выбросы находятся в диапазоне от log(amt) = 3 до log(amt) = 4.\n",
    "\n",
    "**Распределение транзакций по категориям**:\n",
    "\n",
    "- Наиболее популярная категория по количеству транзакций — gas_transport.\n",
    "- Наименьшее количество транзакций приходится на категорию travel.\n",
    "\n",
    "**Анализ мошеннических транзакций (фрод)**:\n",
    "\n",
    "- Доля фрода в датасете составляет всего 0,5%, что указывает на низкую распространенность мошеннических операций.\n",
    "- Наибольшая доля фрода наблюдается в категории grocery_pos (менее 1,5% от общего числа транзакций в этой категории). Однако текущий уровень фрода не является критичным.\n",
    "- Средняя сумма мошеннических транзакций (531.32 у.е.) значительно превышает среднюю сумму обычных транзакций. Это указывает на то, что мошенники склонны совершать более крупные операции, но избегают экстремально высоких сумм, чтобы не привлекать внимание.\n",
    "- Распределение фродовых транзакций по времени суток показывает два основных пика: с 0 до 4 часов и с 22 до 24 часов. Это может быть использовано для настройки правил детекции мошенничества.\n",
    "\n",
    "**Рекомендации**:\n",
    "\n",
    "- Для улучшения обнаружения мошеннических транзакций рекомендуется:\n",
    "- Настроить мониторинг транзакций с суммами выше 245.66 у.е. (25% квартиль фродовых транзакций).\n",
    "- Усилить контроль за операциями в периоды с 0 до 4 часов и с 22 до 24 часов, так как в это время наблюдается повышенная активность мошенников.\n",
    "- Учитывая низкую долю фрода, текущие меры контроля можно считать достаточными, но стоит продолжать мониторинг и анализ данных для своевременного выявления изменений в поведении мошенников.\n",
    "\n",
    "**Вывод**: проведенный анализ позволил выявить ключевые особенности датасета, включая распределение транзакций по категориям, временным промежуткам и суммам. На основе этих данных были предложены рекомендации для улучшения системы обнаружения мошеннических операций. Несмотря на низкую долю фрода, средняя сумма таких транзакций высокая, присутсвуют временные закономерности.  \n",
    "\n",
    "✔️ Важно продолжать мониториг для своевременного выявления изменений в поведении мошенников."
   ]
  },
  {
   "cell_type": "markdown",
   "id": "37bfd713",
   "metadata": {},
   "source": [
    "\n",
    "\n",
    "Спасибо за внимание!\n",
    "\n",
    "Ангелина Боровкова  \n",
    "tg @angborovkova"
   ]
  }
 ],
 "metadata": {
  "kernelspec": {
   "display_name": "Python 3 (ipykernel)",
   "language": "python",
   "name": "python3"
  },
  "language_info": {
   "codemirror_mode": {
    "name": "ipython",
    "version": 3
   },
   "file_extension": ".py",
   "mimetype": "text/x-python",
   "name": "python",
   "nbconvert_exporter": "python",
   "pygments_lexer": "ipython3",
   "version": "3.9.13"
  }
 },
 "nbformat": 4,
 "nbformat_minor": 5
}
