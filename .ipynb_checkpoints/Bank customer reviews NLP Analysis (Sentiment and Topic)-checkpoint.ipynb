{
 "cells": [
  {
   "cell_type": "markdown",
   "id": "f72dff5b",
   "metadata": {
    "jp-MarkdownHeadingCollapsed": true
   },
   "source": [
    "# Анализ отзывов клиентов банка (Тональность и Тематика)\n",
    "\n",
    "Описание проекта:\n",
    "Этот проект посвящен анализу тональности текстовых отзывов о банковских услугах.  \n",
    "**Цель проекта** — классифицировать отзывы как положительные или отрицательные, а также сегментировать основные темы отзывов. Для анализа использованы методы обработки естественного языка (NLP) и машинного обучения, включая классификацию текста и тематическое моделирование.\n",
    "\n",
    "Шаги выполнения проекта:\n",
    "\n",
    "# 1. Загрузка и подготовка данных\n",
    "\n",
    "Датасет: Determining the Sentiment of Bank Reviews Dataset, Kaggle\n",
    "https://www.kaggle.com/datasets/egorandreasyan/determining-the-sentiment-of-bank-reviews-dataset\n",
    "\n",
    "Этот датасет содержит текстовые отзывы клиентов банка с метками тональности (положительные/отрицательные).\n",
    "\n",
    "# 2. Предварительная обработка данных\n",
    "\n",
    " 2.1. Приведение текста к нижнему регистру.  \n",
    " 2.2. Удаление спецсимволов, цифр и лишних пробелов.  \n",
    " 2.3. Удаление стоп-слов для улучшения качества текста.  \n",
    "\n",
    "# 3. Преобразование текста в числовые данные\n",
    "\n",
    "Для преобразования текста в числовые векторы использовался метод TF-IDF (Term Frequency-Inverse Document Frequency), который позволяет оценить важность каждого слова в контексте документа.\n",
    "\n",
    "from sklearn.feature_extraction.text import TfidfVectorizer\n",
    "\n",
    "vectorizer = TfidfVectorizer(stop_words='english')\n",
    "X_train_tfidf = vectorizer.fit_transform(X_train)\n",
    "X_test_tfidf = vectorizer.transform(X_test)\n",
    "\n",
    "# 4. Обучение модели машинного обучения\n",
    "\n",
    "Для классификации текста использован алгоритм Naive Bayes. Это один из классических методов для работы с текстовыми данными. Модель обучена на тренировочных данных, а затем оценена на тестовых.\n",
    "\n",
    "from sklearn.naive_bayes import MultinomialNB\n",
    "from sklearn.metrics import accuracy_score, classification_report\n",
    "\n",
    "model = MultinomialNB()\n",
    "model.fit(X_train_tfidf, y_train)\n",
    "\n",
    "**Предсказания**\n",
    "y_pred = model.predict(X_test_tfidf)\n",
    "\n",
    "**Оценка модели**\n",
    "print(\"Accuracy:\", accuracy_score(y_test, y_pred))\n",
    "print(classification_report(y_test, y_pred))\n",
    "\n",
    "# 5. Самостоятельный анализ тональности\n",
    "\n",
    "\n",
    "\n",
    "# 6. Выделение ключевых тем (Topic Modeling)\n",
    "\n",
    "Для выделения ключевых тем можно использовать Latent Dirichlet Allocation (LDA) — популярную модель для тематического моделирования. Эта модель позволяет выявить скрытые темы в текстах.\n"
   ]
  },
  {
   "cell_type": "markdown",
   "id": "f1cc3b77",
   "metadata": {},
   "source": [
    "----------------------------------------------------------------------"
   ]
  },
  {
   "cell_type": "markdown",
   "id": "0ea6c50d",
   "metadata": {},
   "source": [
    "# 1. Загрузка и подготовка данных\n",
    "Датасет: Determining the Sentiment of Bank Reviews Dataset, Kaggle https://www.kaggle.com/datasets/egorandreasyan/determining-the-sentiment-of-bank-reviews-dataset\n",
    "\n",
    "Этот датасет содержит текстовые отзывы клиентов банка с метками тональности (положительные/отрицательные)."
   ]
  },
  {
   "cell_type": "code",
   "execution_count": 1,
   "id": "8c3ea654",
   "metadata": {},
   "outputs": [
    {
     "data": {
      "text/html": [
       "<div>\n",
       "<style scoped>\n",
       "    .dataframe tbody tr th:only-of-type {\n",
       "        vertical-align: middle;\n",
       "    }\n",
       "\n",
       "    .dataframe tbody tr th {\n",
       "        vertical-align: top;\n",
       "    }\n",
       "\n",
       "    .dataframe thead th {\n",
       "        text-align: right;\n",
       "    }\n",
       "</style>\n",
       "<table border=\"1\" class=\"dataframe\">\n",
       "  <thead>\n",
       "    <tr style=\"text-align: right;\">\n",
       "      <th></th>\n",
       "      <th>idx</th>\n",
       "      <th>Score</th>\n",
       "      <th>Text</th>\n",
       "    </tr>\n",
       "  </thead>\n",
       "  <tbody>\n",
       "    <tr>\n",
       "      <th>0</th>\n",
       "      <td>0</td>\n",
       "      <td>Positive</td>\n",
       "      <td>В Альфа-Банке работает замечательная девушка -...</td>\n",
       "    </tr>\n",
       "    <tr>\n",
       "      <th>1</th>\n",
       "      <td>1</td>\n",
       "      <td>Negative</td>\n",
       "      <td>Оформляя рассрочку в м. Видео в меге тёплый ст...</td>\n",
       "    </tr>\n",
       "    <tr>\n",
       "      <th>2</th>\n",
       "      <td>2</td>\n",
       "      <td>Positive</td>\n",
       "      <td>Очень порадовала оперативность работы в банке....</td>\n",
       "    </tr>\n",
       "    <tr>\n",
       "      <th>3</th>\n",
       "      <td>3</td>\n",
       "      <td>Negative</td>\n",
       "      <td>Имела неосторожность оформить потреб. кредит в...</td>\n",
       "    </tr>\n",
       "    <tr>\n",
       "      <th>4</th>\n",
       "      <td>4</td>\n",
       "      <td>Negative</td>\n",
       "      <td>Небольшая предыстория: Нашел на сайте MDM банк...</td>\n",
       "    </tr>\n",
       "  </tbody>\n",
       "</table>\n",
       "</div>"
      ],
      "text/plain": [
       "   idx     Score                                               Text\n",
       "0    0  Positive  В Альфа-Банке работает замечательная девушка -...\n",
       "1    1  Negative  Оформляя рассрочку в м. Видео в меге тёплый ст...\n",
       "2    2  Positive  Очень порадовала оперативность работы в банке....\n",
       "3    3  Negative  Имела неосторожность оформить потреб. кредит в...\n",
       "4    4  Negative  Небольшая предыстория: Нашел на сайте MDM банк..."
      ]
     },
     "metadata": {},
     "output_type": "display_data"
    },
    {
     "name": "stdout",
     "output_type": "stream",
     "text": [
      "<class 'pandas.core.frame.DataFrame'>\n",
      "RangeIndex: 13999 entries, 0 to 13998\n",
      "Data columns (total 3 columns):\n",
      " #   Column  Non-Null Count  Dtype \n",
      "---  ------  --------------  ----- \n",
      " 0   idx     13999 non-null  int64 \n",
      " 1   Score   13999 non-null  object\n",
      " 2   Text    13999 non-null  object\n",
      "dtypes: int64(1), object(2)\n",
      "memory usage: 328.2+ KB\n"
     ]
    }
   ],
   "source": [
    "import pandas as pd\n",
    "reviews = pd.read_csv('determining_the_sentiment_of_bank_reviews_dataset/train.csv', sep='\\t')\n",
    "reviews = pd.DataFrame(reviews)\n",
    "display(reviews.head())\n",
    "reviews.info()"
   ]
  },
  {
   "cell_type": "markdown",
   "id": "7f11ff25",
   "metadata": {},
   "source": [
    "# 2. Предварительная обработка данных\n",
    "2.1. Приведение текста к нижнему регистру.  \n",
    "2.2. Удаление спецсимволов, цифр и лишних пробелов.  \n",
    "2.3. Удаление стоп-слов для улучшения качества текста.  "
   ]
  },
  {
   "cell_type": "code",
   "execution_count": 2,
   "id": "44858e88",
   "metadata": {},
   "outputs": [
    {
     "name": "stdout",
     "output_type": "stream",
     "text": [
      "Collecting pymorphy2\n",
      "  Using cached pymorphy2-0.9.1-py3-none-any.whl (55 kB)\n",
      "Collecting docopt>=0.6\n",
      "  Using cached docopt-0.6.2-py2.py3-none-any.whl\n",
      "Collecting dawg-python>=0.7.1\n",
      "  Using cached DAWG_Python-0.7.2-py2.py3-none-any.whl (11 kB)\n",
      "Collecting pymorphy2-dicts-ru<3.0,>=2.4\n",
      "  Using cached pymorphy2_dicts_ru-2.4.417127.4579844-py2.py3-none-any.whl (8.2 MB)\n",
      "Installing collected packages: pymorphy2-dicts-ru, docopt, dawg-python, pymorphy2\n",
      "Successfully installed dawg-python-0.7.2 docopt-0.6.2 pymorphy2-0.9.1 pymorphy2-dicts-ru-2.4.417127.4579844\n"
     ]
    }
   ],
   "source": [
    "!pip install pymorphy2"
   ]
  },
  {
   "cell_type": "code",
   "execution_count": 3,
   "id": "ab4468af-a5d4-45cc-99b3-935182fcaa01",
   "metadata": {},
   "outputs": [
    {
     "name": "stdout",
     "output_type": "stream",
     "text": [
      "Requirement already satisfied: pymorphy2 in c:\\users\\hitwo\\anaconda3\\lib\\site-packages (0.9.1)\n",
      "Requirement already satisfied: docopt>=0.6 in c:\\users\\hitwo\\anaconda3\\lib\\site-packages (from pymorphy2) (0.6.2)\n",
      "Requirement already satisfied: dawg-python>=0.7.1 in c:\\users\\hitwo\\anaconda3\\lib\\site-packages (from pymorphy2) (0.7.2)\n",
      "Requirement already satisfied: pymorphy2-dicts-ru<3.0,>=2.4 in c:\\users\\hitwo\\anaconda3\\lib\\site-packages (from pymorphy2) (2.4.417127.4579844)\n"
     ]
    }
   ],
   "source": [
    "!pip install --upgrade pymorphy2"
   ]
  },
  {
   "cell_type": "code",
   "execution_count": 4,
   "id": "9ac474ee-955c-42ab-b4c7-86ad2649c13e",
   "metadata": {},
   "outputs": [],
   "source": [
    "import nltk"
   ]
  },
  {
   "cell_type": "code",
   "execution_count": 5,
   "id": "a65b7676-95ee-45f5-a146-72518b55cd7b",
   "metadata": {},
   "outputs": [],
   "source": [
    "import pymorphy2"
   ]
  },
  {
   "cell_type": "code",
   "execution_count": 6,
   "id": "7826fa1c-2c5f-49a4-a235-793d4f212569",
   "metadata": {},
   "outputs": [],
   "source": [
    "from nltk.corpus import stopwords"
   ]
  },
  {
   "cell_type": "code",
   "execution_count": 7,
   "id": "d413d6a7-6481-4d06-b32b-f68beb288892",
   "metadata": {},
   "outputs": [
    {
     "name": "stderr",
     "output_type": "stream",
     "text": [
      "[nltk_data] Downloading package stopwords to\n",
      "[nltk_data]     C:\\Users\\hitwo\\AppData\\Roaming\\nltk_data...\n",
      "[nltk_data]   Package stopwords is already up-to-date!\n"
     ]
    }
   ],
   "source": [
    "# Загрузка стоп-слов для русского языка\n",
    "nltk.download('stopwords')\n",
    "stop_words = set(stopwords.words('russian'))"
   ]
  },
  {
   "cell_type": "code",
   "execution_count": 8,
   "id": "70cfca21-b63b-4976-a0c2-439c7824fb37",
   "metadata": {},
   "outputs": [
    {
     "name": "stdout",
     "output_type": "stream",
     "text": [
      "3.9.12 (main, Apr  4 2022, 05:22:27) [MSC v.1916 64 bit (AMD64)]\n"
     ]
    }
   ],
   "source": [
    "import sys\n",
    "print(sys.version)"
   ]
  },
  {
   "cell_type": "code",
   "execution_count": 9,
   "id": "58788e91-4065-4094-b6aa-97296900394d",
   "metadata": {
    "scrolled": true
   },
   "outputs": [],
   "source": [
    "# Инициализация морфологического анализатора для лемматизации\n",
    "morph = pymorphy2.MorphAnalyzer()"
   ]
  },
  {
   "cell_type": "code",
   "execution_count": 10,
   "id": "53d471bf",
   "metadata": {},
   "outputs": [
    {
     "name": "stdout",
     "output_type": "stream",
     "text": [
      "   idx     Score                                               Text\n",
      "0    0  Positive  В Альфа-Банке работает замечательная девушка -...\n",
      "1    1  Negative  Оформляя рассрочку в м. Видео в меге тёплый ст...\n",
      "2    2  Positive  Очень порадовала оперативность работы в банке....\n",
      "3    3  Negative  Имела неосторожность оформить потреб. кредит в...\n",
      "4    4  Negative  Небольшая предыстория: Нашел на сайте MDM банк...\n"
     ]
    }
   ],
   "source": [
    "# Просмотр первых строк\n",
    "print(reviews.head())"
   ]
  },
  {
   "cell_type": "code",
   "execution_count": 11,
   "id": "696a03d4",
   "metadata": {},
   "outputs": [],
   "source": [
    "# 2. Функция очистки текста\n",
    "\n",
    "def clean_text(text):\n",
    "    \"\"\"\n",
    "    Очистка текста:\n",
    "    - Приведение к нижнему регистру\n",
    "    - Удаление спецсимволов, цифр, лишних пробелов\n",
    "    - Удаление стоп-слов\n",
    "    - Лемматизация\n",
    "    \"\"\"\n",
    "    if not isinstance(text, str):  # Проверка, что передан текст\n",
    "        return \"\"\n",
    "\n",
    "    text = text.lower()  # Приводим к нижнему регистру\n",
    "    text = re.sub(r'[^а-яё\\s]', '', text)  # Удаляем все, кроме русских букв и пробелов\n",
    "    words = text.split()  # Разбиваем текст на слова\n",
    "    words = [morph.parse(word)[0].normal_form for word in words if word not in stop_words]  # Лемматизация и удаление стоп-слов\n",
    "    return \" \".join(words)\n"
   ]
  },
  {
   "cell_type": "code",
   "execution_count": 12,
   "id": "bb7ae264",
   "metadata": {},
   "outputs": [
    {
     "name": "stdout",
     "output_type": "stream",
     "text": [
      "Collecting swifter\n",
      "  Using cached swifter-1.4.0-py3-none-any.whl\n",
      "Requirement already satisfied: psutil>=5.6.6 in c:\\users\\hitwo\\anaconda3\\lib\\site-packages (from swifter) (5.8.0)\n",
      "Requirement already satisfied: tqdm>=4.33.0 in c:\\users\\hitwo\\anaconda3\\lib\\site-packages (from swifter) (4.64.0)\n",
      "Requirement already satisfied: pandas>=1.0.0 in c:\\users\\hitwo\\anaconda3\\lib\\site-packages (from swifter) (1.4.2)\n",
      "Requirement already satisfied: dask[dataframe]>=2.10.0 in c:\\users\\hitwo\\anaconda3\\lib\\site-packages (from swifter) (2022.2.1)\n",
      "Requirement already satisfied: partd>=0.3.10 in c:\\users\\hitwo\\anaconda3\\lib\\site-packages (from dask[dataframe]>=2.10.0->swifter) (1.2.0)\n",
      "Requirement already satisfied: fsspec>=0.6.0 in c:\\users\\hitwo\\anaconda3\\lib\\site-packages (from dask[dataframe]>=2.10.0->swifter) (2022.2.0)\n",
      "Requirement already satisfied: toolz>=0.8.2 in c:\\users\\hitwo\\anaconda3\\lib\\site-packages (from dask[dataframe]>=2.10.0->swifter) (0.11.2)\n",
      "Requirement already satisfied: cloudpickle>=1.1.1 in c:\\users\\hitwo\\anaconda3\\lib\\site-packages (from dask[dataframe]>=2.10.0->swifter) (2.0.0)\n",
      "Requirement already satisfied: pyyaml>=5.3.1 in c:\\users\\hitwo\\anaconda3\\lib\\site-packages (from dask[dataframe]>=2.10.0->swifter) (6.0)\n",
      "Requirement already satisfied: packaging>=20.0 in c:\\users\\hitwo\\anaconda3\\lib\\site-packages (from dask[dataframe]>=2.10.0->swifter) (21.3)\n",
      "Requirement already satisfied: numpy>=1.18 in c:\\users\\hitwo\\anaconda3\\lib\\site-packages (from dask[dataframe]>=2.10.0->swifter) (1.21.5)\n",
      "Requirement already satisfied: pyparsing!=3.0.5,>=2.0.2 in c:\\users\\hitwo\\anaconda3\\lib\\site-packages (from packaging>=20.0->dask[dataframe]>=2.10.0->swifter) (3.0.4)\n",
      "Requirement already satisfied: python-dateutil>=2.8.1 in c:\\users\\hitwo\\anaconda3\\lib\\site-packages (from pandas>=1.0.0->swifter) (2.8.2)\n",
      "Requirement already satisfied: pytz>=2020.1 in c:\\users\\hitwo\\anaconda3\\lib\\site-packages (from pandas>=1.0.0->swifter) (2021.3)\n",
      "Requirement already satisfied: locket in c:\\users\\hitwo\\anaconda3\\lib\\site-packages (from partd>=0.3.10->dask[dataframe]>=2.10.0->swifter) (0.2.1)\n",
      "Requirement already satisfied: six>=1.5 in c:\\users\\hitwo\\anaconda3\\lib\\site-packages (from python-dateutil>=2.8.1->pandas>=1.0.0->swifter) (1.16.0)\n",
      "Requirement already satisfied: colorama in c:\\users\\hitwo\\anaconda3\\lib\\site-packages (from tqdm>=4.33.0->swifter) (0.4.4)\n",
      "Installing collected packages: swifter\n",
      "Successfully installed swifter-1.4.0\n"
     ]
    }
   ],
   "source": [
    "!pip install swifter "
   ]
  },
  {
   "cell_type": "code",
   "execution_count": 13,
   "id": "160f11fe-dd88-4bdd-9e6b-8dc4d4d81cef",
   "metadata": {},
   "outputs": [],
   "source": [
    "import re"
   ]
  },
  {
   "cell_type": "code",
   "execution_count": 21,
   "id": "ea0879c4",
   "metadata": {},
   "outputs": [],
   "source": [
    "# 3. Применение очистки к данным\n",
    "#import swifter # используем swifter для параллельного вычисления, иначе компьютер зависает\n",
    "#reviews[\"clean_text\"] = reviews[\"Text\"].astype(str).swifter.apply(clean_text) \n",
    "\n",
    "#Просмотр результатов\n",
    "#print(reviews[[\"Text\", \"clean_text\"]].head())"
   ]
  },
  {
   "cell_type": "code",
   "execution_count": 22,
   "id": "41b0f34d",
   "metadata": {},
   "outputs": [],
   "source": [
    "# 4. Сохранение очищенного датасета\n",
    "# reviews.to_csv(\"cleaned_reviews.csv\", index=False)"
   ]
  },
  {
   "cell_type": "code",
   "execution_count": 30,
   "id": "c03afb6f",
   "metadata": {},
   "outputs": [
    {
     "data": {
      "text/html": [
       "<div>\n",
       "<style scoped>\n",
       "    .dataframe tbody tr th:only-of-type {\n",
       "        vertical-align: middle;\n",
       "    }\n",
       "\n",
       "    .dataframe tbody tr th {\n",
       "        vertical-align: top;\n",
       "    }\n",
       "\n",
       "    .dataframe thead th {\n",
       "        text-align: right;\n",
       "    }\n",
       "</style>\n",
       "<table border=\"1\" class=\"dataframe\">\n",
       "  <thead>\n",
       "    <tr style=\"text-align: right;\">\n",
       "      <th></th>\n",
       "      <th>idx</th>\n",
       "      <th>Score</th>\n",
       "      <th>Text</th>\n",
       "      <th>clean_text</th>\n",
       "    </tr>\n",
       "  </thead>\n",
       "  <tbody>\n",
       "    <tr>\n",
       "      <th>0</th>\n",
       "      <td>0</td>\n",
       "      <td>Positive</td>\n",
       "      <td>В Альфа-Банке работает замечательная девушка -...</td>\n",
       "      <td>альфабанка работать замечательный девушка илья...</td>\n",
       "    </tr>\n",
       "    <tr>\n",
       "      <th>1</th>\n",
       "      <td>1</td>\n",
       "      <td>Negative</td>\n",
       "      <td>Оформляя рассрочку в м. Видео в меге тёплый ст...</td>\n",
       "      <td>оформлять рассрочка м видео мег тёплый стан по...</td>\n",
       "    </tr>\n",
       "    <tr>\n",
       "      <th>2</th>\n",
       "      <td>2</td>\n",
       "      <td>Positive</td>\n",
       "      <td>Очень порадовала оперативность работы в банке....</td>\n",
       "      <td>очень порадовать оперативность работа банк зак...</td>\n",
       "    </tr>\n",
       "    <tr>\n",
       "      <th>3</th>\n",
       "      <td>3</td>\n",
       "      <td>Negative</td>\n",
       "      <td>Имела неосторожность оформить потреб. кредит в...</td>\n",
       "      <td>иметь неосторожность оформить потреба кредит а...</td>\n",
       "    </tr>\n",
       "    <tr>\n",
       "      <th>4</th>\n",
       "      <td>4</td>\n",
       "      <td>Negative</td>\n",
       "      <td>Небольшая предыстория: Нашел на сайте MDM банк...</td>\n",
       "      <td>небольшой предыстория найти сайт банк интересн...</td>\n",
       "    </tr>\n",
       "  </tbody>\n",
       "</table>\n",
       "</div>"
      ],
      "text/plain": [
       "   idx     Score                                               Text  \\\n",
       "0    0  Positive  В Альфа-Банке работает замечательная девушка -...   \n",
       "1    1  Negative  Оформляя рассрочку в м. Видео в меге тёплый ст...   \n",
       "2    2  Positive  Очень порадовала оперативность работы в банке....   \n",
       "3    3  Negative  Имела неосторожность оформить потреб. кредит в...   \n",
       "4    4  Negative  Небольшая предыстория: Нашел на сайте MDM банк...   \n",
       "\n",
       "                                          clean_text  \n",
       "0  альфабанка работать замечательный девушка илья...  \n",
       "1  оформлять рассрочка м видео мег тёплый стан по...  \n",
       "2  очень порадовать оперативность работа банк зак...  \n",
       "3  иметь неосторожность оформить потреба кредит а...  \n",
       "4  небольшой предыстория найти сайт банк интересн...  "
      ]
     },
     "metadata": {},
     "output_type": "display_data"
    }
   ],
   "source": [
    "# Загрузка столбца 'clean_text' из файла cleaned_reviews.csv\n",
    "clean_text_data = pd.read_csv('cleaned_reviews.csv')\n",
    "clean_text_data = pd.DataFrame(clean_text_data)\n",
    "display(clean_text_data.head())"
   ]
  },
  {
   "cell_type": "markdown",
   "id": "bffa3f7f",
   "metadata": {},
   "source": [
    "Результат:\n",
    "\n",
    " - Колонка clean_text содержит очищенные и лемматизированные отзывы.  \n",
    " - Теперь данные готовы для дальнейшего анализа, например, анализа тональности.  "
   ]
  },
  {
   "cell_type": "code",
   "execution_count": 48,
   "id": "cec959ba",
   "metadata": {},
   "outputs": [
    {
     "data": {
      "text/html": [
       "<div>\n",
       "<style scoped>\n",
       "    .dataframe tbody tr th:only-of-type {\n",
       "        vertical-align: middle;\n",
       "    }\n",
       "\n",
       "    .dataframe tbody tr th {\n",
       "        vertical-align: top;\n",
       "    }\n",
       "\n",
       "    .dataframe thead th {\n",
       "        text-align: right;\n",
       "    }\n",
       "</style>\n",
       "<table border=\"1\" class=\"dataframe\">\n",
       "  <thead>\n",
       "    <tr style=\"text-align: right;\">\n",
       "      <th></th>\n",
       "      <th>idx</th>\n",
       "      <th>Score</th>\n",
       "      <th>Text</th>\n",
       "      <th>clean_text</th>\n",
       "      <th>sentiment_polarity</th>\n",
       "      <th>sentiment_label</th>\n",
       "    </tr>\n",
       "  </thead>\n",
       "  <tbody>\n",
       "    <tr>\n",
       "      <th>0</th>\n",
       "      <td>0</td>\n",
       "      <td>Positive</td>\n",
       "      <td>В Альфа-Банке работает замечательная девушка -...</td>\n",
       "      <td>альфабанка работать замечательный девушка илья...</td>\n",
       "      <td>0.000000</td>\n",
       "      <td>positive</td>\n",
       "    </tr>\n",
       "    <tr>\n",
       "      <th>1</th>\n",
       "      <td>1</td>\n",
       "      <td>Negative</td>\n",
       "      <td>Оформляя рассрочку в м. Видео в меге тёплый ст...</td>\n",
       "      <td>оформлять рассрочка м видео мег тёплый стан по...</td>\n",
       "      <td>0.000000</td>\n",
       "      <td>positive</td>\n",
       "    </tr>\n",
       "    <tr>\n",
       "      <th>2</th>\n",
       "      <td>2</td>\n",
       "      <td>Positive</td>\n",
       "      <td>Очень порадовала оперативность работы в банке....</td>\n",
       "      <td>очень порадовать оперативность работа банк зак...</td>\n",
       "      <td>0.166667</td>\n",
       "      <td>positive</td>\n",
       "    </tr>\n",
       "    <tr>\n",
       "      <th>3</th>\n",
       "      <td>3</td>\n",
       "      <td>Negative</td>\n",
       "      <td>Имела неосторожность оформить потреб. кредит в...</td>\n",
       "      <td>иметь неосторожность оформить потреба кредит а...</td>\n",
       "      <td>0.000000</td>\n",
       "      <td>positive</td>\n",
       "    </tr>\n",
       "    <tr>\n",
       "      <th>4</th>\n",
       "      <td>4</td>\n",
       "      <td>Negative</td>\n",
       "      <td>Небольшая предыстория: Нашел на сайте MDM банк...</td>\n",
       "      <td>небольшой предыстория найти сайт банк интересн...</td>\n",
       "      <td>0.000000</td>\n",
       "      <td>positive</td>\n",
       "    </tr>\n",
       "  </tbody>\n",
       "</table>\n",
       "</div>"
      ],
      "text/plain": [
       "   idx     Score                                               Text  \\\n",
       "0    0  Positive  В Альфа-Банке работает замечательная девушка -...   \n",
       "1    1  Negative  Оформляя рассрочку в м. Видео в меге тёплый ст...   \n",
       "2    2  Positive  Очень порадовала оперативность работы в банке....   \n",
       "3    3  Negative  Имела неосторожность оформить потреб. кредит в...   \n",
       "4    4  Negative  Небольшая предыстория: Нашел на сайте MDM банк...   \n",
       "\n",
       "                                          clean_text  sentiment_polarity  \\\n",
       "0  альфабанка работать замечательный девушка илья...            0.000000   \n",
       "1  оформлять рассрочка м видео мег тёплый стан по...            0.000000   \n",
       "2  очень порадовать оперативность работа банк зак...            0.166667   \n",
       "3  иметь неосторожность оформить потреба кредит а...            0.000000   \n",
       "4  небольшой предыстория найти сайт банк интересн...            0.000000   \n",
       "\n",
       "  sentiment_label  \n",
       "0        positive  \n",
       "1        positive  \n",
       "2        positive  \n",
       "3        positive  \n",
       "4        positive  "
      ]
     },
     "metadata": {},
     "output_type": "display_data"
    }
   ],
   "source": [
    "# Добавление столбца 'clean_text' к существующему датафрейму reviews\n",
    "reviews['clean_text'] = clean_text_data['clean_text']\n",
    "# Проверяем \n",
    "display(reviews.head())\n",
    "# Данные обработались корректно"
   ]
  },
  {
   "cell_type": "markdown",
   "id": "370c8151",
   "metadata": {},
   "source": [
    "# 3. Преобразование текста в числовые данные\n",
    "Преобразуем очищенный текст в числовые векторы с помощью TF-IDF (Term Frequency-Inverse Document Frequency). Это позволит модели машинного обучения понимать текст как набор значимых признаков.\n",
    "\n",
    "Выбрала TF-IDF, т.к. он прост в реалзиации и подходит для задачи. Ru-BERT занимает больше памяти.\n"
   ]
  },
  {
   "cell_type": "code",
   "execution_count": 16,
   "id": "d8f2d8dc",
   "metadata": {},
   "outputs": [],
   "source": [
    "# 1. Импорт библиотеки\n",
    "from sklearn.feature_extraction.text import TfidfVectorizer"
   ]
  },
  {
   "cell_type": "code",
   "execution_count": null,
   "id": "a3c827f2",
   "metadata": {},
   "outputs": [],
   "source": [
    "# 2. Преобразование текста в TF-IDF\n",
    "\n",
    "# Создаём объект TfidfVectorizer и применяем его к данным:\n",
    "\n",
    "vectorizer = TfidfVectorizer(stop_words=stop_words, max_features=5000)  # Указываем макс. число признаков\n",
    "tfidf_matrix = vectorizer.fit_transform(reviews[\"clean_text\"])  # Преобразуем текст в матрицу чисел"
   ]
  },
  {
   "cell_type": "code",
   "execution_count": null,
   "id": "caf0e668",
   "metadata": {},
   "outputs": [],
   "source": [
    "# 3. Просмотр результатов\n",
    "\n",
    "#Чтобы убедиться, что всё работает, посмотрим на полученную матрицу:\n",
    "\n",
    "print(f\"Размерность матрицы: {tfidf_matrix.shape}\")  # Количество отзывов × количество признаков\n",
    "print(\"Примеры признаков (слов):\", vectorizer.get_feature_names_out()[:10])  # Выведем 10 самых частых слов"
   ]
  },
  {
   "cell_type": "markdown",
   "id": "296de412",
   "metadata": {},
   "source": [
    "# 4. Обучение модели машинного обучения  \n",
    "Мы будем использовать Naive Bayes (MultinomialNB), так как он хорошо подходит для задач классификации текста.  \n",
    "• 80% данных — для обучения.  \n",
    "• 20% данных — для тестирования."
   ]
  },
  {
   "cell_type": "code",
   "execution_count": null,
   "id": "275c3053",
   "metadata": {},
   "outputs": [],
   "source": [
    "# проверка на дублирование\n",
    "print(f\"Количество повторяющихся отзывов: {reviews.duplicated().sum()}\")"
   ]
  },
  {
   "cell_type": "code",
   "execution_count": null,
   "id": "9f764b3f",
   "metadata": {},
   "outputs": [],
   "source": [
    "from sklearn.model_selection import train_test_split\n",
    "\n",
    "# Разделение данных (20% - тест, 80% - обучение)\n",
    "X_train, X_test, y_train, y_test = train_test_split(\n",
    "tfidf_matrix, reviews[\"Score\"], test_size=0.2, random_state=42, shuffle=True\n",
    ") #shuffle=True (по умолчанию), чтобы данные перемешивались перед разделением\n",
    "\n",
    "# проверка размеров выборок\n",
    "print(f\"Размер обучающей выборки: {X_train.shape}\")\n",
    "print(f\"Размер тестовой выборки: {X_test.shape}\")"
   ]
  },
  {
   "cell_type": "code",
   "execution_count": null,
   "id": "373c9366",
   "metadata": {},
   "outputs": [],
   "source": [
    "# Преобразуем разреженные матрицы в плотные массивы\n",
    "X_train_dense = X_train.toarray()\n",
    "X_test_dense = X_test.toarray()\n",
    "\n",
    "# Сравниваем строки (тексты) в выборках\n",
    "common_texts = set(map(tuple, X_train_dense)).intersection(set(map(tuple, X_test_dense)))\n",
    "print(f\"Совпадающих текстов: {len(common_texts)}\")"
   ]
  },
  {
   "cell_type": "markdown",
   "id": "5a47751f",
   "metadata": {},
   "source": [
    "Выборки разлины по объему, совпадающих текстов и дублей нет, можем приступать в обучению модели и доверять её результатам."
   ]
  },
  {
   "cell_type": "code",
   "execution_count": null,
   "id": "dc8a6a51",
   "metadata": {},
   "outputs": [],
   "source": [
    "# Импорт модели Naive Bayes\n",
    "from sklearn.naive_bayes import MultinomialNB\n",
    "from sklearn.metrics import accuracy_score, classification_report\n",
    "\n",
    "# Создаем и обучаем модель\n",
    "model = MultinomialNB()\n",
    "model.fit(X_train, y_train) # X_train — TF-IDF обучающей выборки\n",
    "\n",
    "# Делаем предсказания\n",
    "y_pred = model.predict(X_test)\n",
    "\n",
    "# Оцениваем точность модели\n",
    "accuracy = accuracy_score(y_test, y_pred)\n",
    "print(f\"Точность модели: {accuracy:.2f}\")\n",
    "\n",
    "# Выводим детальный отчет по метрикам\n",
    "print(classification_report(y_test, y_pred))"
   ]
  },
  {
   "cell_type": "markdown",
   "id": "a7426ca6",
   "metadata": {},
   "source": [
    "Accuracy (Точность): модель правильно классифицирует 92% всех примеров. Качество модели хорошее.\n",
    "\n",
    "Precision (Точность для каждого класса):\n",
    "\n",
    "- Negative: 91% примеров, предсказанных как Negative, действительно являются Negative.\n",
    "\n",
    "- Positive: 94% примеров, предсказанных как Positive, действительно являются Positive.\n",
    "\n",
    "Recall (Полнота для каждого класса):\n",
    "\n",
    "- Negative: модель правильно идентифицирует 94% всех реальных Negative примеров.\n",
    "\n",
    "- Positive: модель правильно идентифицирует 90% всех реальных Positive примеров.\n",
    "\n",
    "F1-score (F1-мера):  \n",
    "Negative 0.93 и Positive 0.92 указывают на хороший баланс между precision и recall.\n",
    "\n",
    "Поддержка (Support): Количество примеров в каждом классе примерно одинаковое (1401 для Negative и 1399 для Positive), это говорит о сбалансированности данных.\n",
    "\n",
    "**Итог**: модель демонстрирует высокое качество классификации для обоих классов, с небольшим преимуществом в точности для класса Positive и в полноте для класса Negative. Общая точность модели (92%) и сбалансированные метрики F1-score указывают на то, что модель хорошо справляется с задачей классификации.\n",
    "\n",
    "Если бы точность модели была низкая, можно было попробовать альтернативные модели для классификации:\n",
    "- Logistic Regression — часто работает лучше, но медленнее.\n",
    "- Random Forest — хуже для текстов, но стоило бы проверить.\n",
    "- ruBERT — мощная нейросеть, но требует больше вычислений."
   ]
  },
  {
   "cell_type": "markdown",
   "id": "b3181f83",
   "metadata": {},
   "source": [
    "Поскольку ранее мы проверяли утечку данных в тестовую выборку, отсутствие дублей и совпадающих текстов, можем доверять высокой точности модели."
   ]
  },
  {
   "cell_type": "markdown",
   "id": "083665e2",
   "metadata": {},
   "source": [
    "# 5. Самостоятельный анализ тональности отзывов через input\n",
    "Проверим, сможет ли обученная модель NB классифицировать входящие отзывы."
   ]
  },
  {
   "cell_type": "code",
   "execution_count": 53,
   "id": "5874f0ab",
   "metadata": {},
   "outputs": [],
   "source": [
    "import pickle # Чтобы сохранять и загружать модель"
   ]
  },
  {
   "cell_type": "code",
   "execution_count": 63,
   "id": "c05323ee",
   "metadata": {},
   "outputs": [],
   "source": [
    "# 1. Сохраняем обученные модель и векторизатор (если не сохраняли ранее)\n",
    "with open(\"nb_model.pkl\", \"wb\") as model_file:\n",
    "    pickle.dump(model, model_file)\n",
    "\n",
    "with open(\"tfidf_vectorizer.pkl\", \"wb\") as vec_file:\n",
    "    pickle.dump(vectorizer, vec_file)\n",
    "\n",
    "# 2. Функция для предсказания тональности нового отзыва\n",
    "def predict_sentiment(review_text):\n",
    "    #Определяет тональность введённого отзыва (положительный/отрицательный)\n",
    "    \n",
    "    # Загружаем модель и векторизатор\n",
    "    with open(\"nb_model.pkl\", \"rb\") as model_file:\n",
    "        loaded_model = pickle.load(model_file)\n",
    "    with open(\"tfidf_vectorizer.pkl\", \"rb\") as vec_file:\n",
    "        loaded_vectorizer = pickle.load(vec_file)\n",
    "    \n",
    "    # Предобработка текста (по аналогии с обработкой в основном коде)\n",
    "    review_clean = clean_text(review_text)  # Используем твою функцию очистки текста\n",
    "    \n",
    "    # Преобразуем в TF-IDF\n",
    "    review_tfidf = loaded_vectorizer.transform([review_clean])\n",
    "    \n",
    "    # Делаем предсказание\n",
    "    prediction = loaded_model.predict(review_tfidf)[0]\n",
    "    \n",
    "    return \"Positive\" if prediction == 1 else \"Negative\""
   ]
  },
  {
   "cell_type": "code",
   "execution_count": 64,
   "id": "499a1ddd",
   "metadata": {},
   "outputs": [
    {
     "name": "stdout",
     "output_type": "stream",
     "text": [
      "Введите отзыв о банке: круто\n",
      "Результат анализа: Negative\n"
     ]
    }
   ],
   "source": [
    "# 3. Вводим отзыв через input()\n",
    "user_review = input(\"Введите отзыв о банке: \")\n",
    "print(\"Результат анализа:\", predict_sentiment(user_review))"
   ]
  },
  {
   "cell_type": "markdown",
   "id": "88057789",
   "metadata": {},
   "source": [
    "Модель часто предсказывает отрицательные отзывы даже для положительных. Возможны следующие причины:\n",
    "\n",
    " 1. Несбалансированные данные – в обучающем наборе может быть больше отрицательных отзывов.\n",
    " 2. Качество предобработки – возможно, некоторые важные слова удаляются или теряются при очистке текста.\n",
    " 3. Порог чувствительности – Наивный Байес выдаёт вероятности, но мы берём просто predict(), не анализируя уверенность модели."
   ]
  },
  {
   "cell_type": "code",
   "execution_count": 68,
   "id": "a45bbf23",
   "metadata": {},
   "outputs": [
    {
     "data": {
      "image/png": "[encoded data removed]",
      "text/plain": [
       "<Figure size 432x288 with 1 Axes>"
      ]
     },
     "metadata": {
      "needs_background": "light"
     },
     "output_type": "display_data"
    }
   ],
   "source": [
    "# проверка баланс классов в обучающей выборке\n",
    "\n",
    "import matplotlib.pyplot as plt  \n",
    "\n",
    "# Считаем количество положительных и отрицательных отзывов\n",
    "reviews[\"Score\"].value_counts().plot(kind=\"bar\", color=[\"green\", \"black\"])\n",
    "plt.title(\"Распределение классов в датасете\")\n",
    "plt.xlabel(\"Класс отзыва\")\n",
    "plt.ylabel(\"Количество\")\n",
    "plt.show()"
   ]
  },
  {
   "cell_type": "markdown",
   "id": "d7fca908",
   "metadata": {},
   "source": [
    "Классы сбалансированы, проверяем дальше."
   ]
  },
  {
   "cell_type": "code",
   "execution_count": 69,
   "id": "d9b5bcc8",
   "metadata": {},
   "outputs": [
    {
     "name": "stdout",
     "output_type": "stream",
     "text": [
      "0    альфабанка работать замечательный девушка илья...\n",
      "1    оформлять рассрочка м видео мег тёплый стан по...\n",
      "2    очень порадовать оперативность работа банк зак...\n",
      "3    иметь неосторожность оформить потреба кредит а...\n",
      "4    небольшой предыстория найти сайт банк интересн...\n",
      "5    конец февраль оформить кредитный карта банк ав...\n",
      "6    месяц назад взять автокредит ходить разный сал...\n",
      "7    говорить махинация бонус остановиться процент ...\n",
      "8    день добрый мама сон вага рождение пенсионерка...\n",
      "9    приветствуевать являться клиент чудобанка дого...\n",
      "Name: clean_text, dtype: object\n"
     ]
    }
   ],
   "source": [
    "# Вывод примеров после очистки текста, чтобы убедиться, что они не теряют смысл:\n",
    "print(reviews[\"clean_text\"].head(10))  # Проверяем, как выглядят очищенные отзывы"
   ]
  },
  {
   "cell_type": "markdown",
   "id": "b727bead",
   "metadata": {},
   "source": [
    "Отзывы достаточно длинные. Проверяем дальше"
   ]
  },
  {
   "cell_type": "code",
   "execution_count": 70,
   "id": "7d96146f",
   "metadata": {},
   "outputs": [],
   "source": [
    "# Замена predict() на predict_proba(), чтобы учитывать уверенность модели:\n",
    "\n",
    "# 2. Функция для предсказания тональности нового отзыва\n",
    "def predict_sentiment_proba(review_text):\n",
    "    #Определяет тональность введённого отзыва (положительный/отрицательный)\n",
    "    \n",
    "    # Загружаем модель и векторизатор\n",
    "    with open(\"nb_model.pkl\", \"rb\") as model_file:\n",
    "        loaded_model = pickle.load(model_file)\n",
    "    with open(\"tfidf_vectorizer.pkl\", \"rb\") as vec_file:\n",
    "        loaded_vectorizer = pickle.load(vec_file)\n",
    "    \n",
    "    # Предобработка текста (по аналогии с обработкой в основном коде)\n",
    "    review_clean = clean_text(review_text)  # Используем твою функцию очистки текста\n",
    "    \n",
    "    # Преобразуем в TF-IDF\n",
    "    review_tfidf = loaded_vectorizer.transform([review_clean])\n",
    "    \n",
    "    # Делаем предсказание\n",
    "    prediction = loaded_model.predict_proba(review_tfidf)[0]\n",
    "    \n",
    "    return \"Positive\" if prediction == 1 else \"Negative\""
   ]
  },
  {
   "cell_type": "code",
   "execution_count": 72,
   "id": "559956d9",
   "metadata": {},
   "outputs": [
    {
     "name": "stdout",
     "output_type": "stream",
     "text": [
      "Введите отзыв о банке: good\n",
      "Результат анализа: Negative\n"
     ]
    }
   ],
   "source": [
    "# Вводим отзыв через input()\n",
    "user_review = input(\"Введите отзыв о банке: \")\n",
    "print(\"Результат анализа:\", predict_sentiment(user_review))"
   ]
  },
  {
   "cell_type": "markdown",
   "id": "6ad6595b",
   "metadata": {},
   "source": [
    "Модель продолжает индентифицировать положительные отзывы как отрицательные. Попробуем заменить Байеса на логическую регрессию."
   ]
  },
  {
   "cell_type": "code",
   "execution_count": 81,
   "id": "b90c54c3",
   "metadata": {},
   "outputs": [
    {
     "name": "stdout",
     "output_type": "stream",
     "text": [
      "Точность модели: 0.94\n"
     ]
    }
   ],
   "source": [
    "from sklearn.linear_model import LogisticRegression\n",
    "\n",
    "# Обучение логистической регрессии\n",
    "log_reg_model = LogisticRegression(max_iter=500, C=1, penalty='l2', solver='liblinear')\n",
    "log_reg_model.fit(X_train, y_train)\n",
    "\n",
    "# Оценка модели\n",
    "y_pred = log_reg_model.predict(X_test)\n",
    "print(f\"Точность модели: {accuracy_score(y_test, y_pred):.2f}\")"
   ]
  },
  {
   "cell_type": "code",
   "execution_count": 82,
   "id": "480cd6f1",
   "metadata": {},
   "outputs": [],
   "source": [
    "# Сохранение модели и векторизатора\n",
    "with open(\"logreg_model.pkl\", \"wb\") as model_file:\n",
    "    pickle.dump(log_reg_model, model_file)\n",
    "\n",
    "with open(\"tfidf_vectorizer.pkl\", \"wb\") as vec_file:\n",
    "    pickle.dump(vectorizer, vec_file)"
   ]
  },
  {
   "cell_type": "code",
   "execution_count": 83,
   "id": "c5e582ac",
   "metadata": {},
   "outputs": [],
   "source": [
    "# Применение модели для предсказания тональности нового отзыва\n",
    "\n",
    "# Функция для анализа тональности нового отзыва\n",
    "def predict_sentiment(review_text):\n",
    "    \"\"\"Определяет тональность введённого отзыва (положительный/отрицательный)\"\"\"\n",
    "    \n",
    "    # Загружаем модель и векторизатор\n",
    "    with open(\"logreg_model.pkl\", \"rb\") as model_file:\n",
    "        loaded_model = pickle.load(model_file)\n",
    "    with open(\"tfidf_vectorizer.pkl\", \"rb\") as vec_file:\n",
    "        loaded_vectorizer = pickle.load(vec_file)\n",
    "    \n",
    "    # Предобработка текста\n",
    "    review_clean = clean_text(review_text)  # Функция очистки текста\n",
    "    \n",
    "    # Преобразуем в TF-IDF\n",
    "    review_tfidf = loaded_vectorizer.transform([review_clean])\n",
    "    \n",
    "    # Делаем предсказание\n",
    "    prediction = loaded_model.predict(review_tfidf)[0]\n",
    "    \n",
    "    return \"Positive\" if prediction == 1 else \"Negative\""
   ]
  },
  {
   "cell_type": "code",
   "execution_count": 86,
   "id": "30bca4bd",
   "metadata": {},
   "outputs": [
    {
     "name": "stdout",
     "output_type": "stream",
     "text": [
      "Введите отзыв о банке: очень хороший отличный лучший прекрасный люблю\n",
      "Результат анализа: Negative\n"
     ]
    }
   ],
   "source": [
    "# Ввод отзыва\n",
    "user_review = input(\"Введите отзыв о банке: \")\n",
    "print(\"Результат анализа:\", predict_sentiment(user_review))"
   ]
  },
  {
   "cell_type": "code",
   "execution_count": 74,
   "id": "ffcbddbc",
   "metadata": {},
   "outputs": [
    {
     "name": "stdout",
     "output_type": "stream",
     "text": [
      "Точность модели: 0.94\n"
     ]
    }
   ],
   "source": [
    "from sklearn.linear_model import LogisticRegression\n",
    "\n",
    "lr_model = LogisticRegression(class_weight=\"balanced\")\n",
    "lr_model.fit(X_train, y_train)\n",
    "y_pred = lr_model.predict(X_test)\n",
    "\n",
    "print(f\"Точность модели: {accuracy_score(y_test, y_pred):.2f}\")"
   ]
  },
  {
   "cell_type": "markdown",
   "id": "8d4c0394",
   "metadata": {},
   "source": [
    "Модель продолжает определять позитивные отзывы как негативные. Не успех."
   ]
  },
  {
   "cell_type": "markdown",
   "id": "28e39bc9",
   "metadata": {},
   "source": [
    "# 6. Выделение ключевых тем (Topic Modeling) с использованием LDA"
   ]
  },
  {
   "cell_type": "code",
   "execution_count": null,
   "id": "4ae512a8",
   "metadata": {},
   "outputs": [],
   "source": []
  },
  {
   "cell_type": "code",
   "execution_count": null,
   "id": "162dd8e7",
   "metadata": {},
   "outputs": [],
   "source": []
  },
  {
   "cell_type": "code",
   "execution_count": null,
   "id": "d8aae569",
   "metadata": {},
   "outputs": [],
   "source": []
  }
 ],
 "metadata": {
  "kernelspec": {
   "display_name": "Python 3 (ipykernel)",
   "language": "python",
   "name": "python3"
  },
  "language_info": {
   "codemirror_mode": {
    "name": "ipython",
    "version": 3
   },
   "file_extension": ".py",
   "mimetype": "text/x-python",
   "name": "python",
   "nbconvert_exporter": "python",
   "pygments_lexer": "ipython3",
   "version": "3.9.12"
  }
 },
 "nbformat": 4,
 "nbformat_minor": 5
}
