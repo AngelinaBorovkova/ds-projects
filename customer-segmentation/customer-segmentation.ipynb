{
 "cells": [
  {
   "cell_type": "markdown",
   "id": "bf00e778",
   "metadata": {},
   "source": [
    "# Cегментация клиентов банка с помощью KMeans и DBSCAN для маркетинга"
   ]
  },
  {
   "cell_type": "markdown",
   "id": "5768d8e5",
   "metadata": {},
   "source": [
    "# Навыки"
   ]
  },
  {
   "cell_type": "markdown",
   "id": "fda94163",
   "metadata": {},
   "source": [
    "- **Анализ данных**: Обработка и очистка данных, работа с пропущенными значениями, агрегация данных.  \n",
    "- **Машинное обучение**: Кластеризация (KMeans, DBSCAN), уменьшение размерности (PCA), масштабирование данных (StandardScaler). \n",
    "- **Визуализация**: Построение графиков (Matplotlib, Seaborn), анализ методом локтя, визуализация кластеров.  \n",
    "- **Программирование**: Python, библиотеки Pandas, Scikit-learn, NumPy.  \n",
    "- **Интерпретация результатов**: Анализ кластеров, выявление бизнес-инсайтов, подготовка выводов для маркетологов.  "
   ]
  },
  {
   "cell_type": "markdown",
   "id": "ca5c46dc",
   "metadata": {},
   "source": [
    "# О датасете"
   ]
  },
  {
   "cell_type": "markdown",
   "id": "8504b03c",
   "metadata": {},
   "source": [
    " Источник: Credit Card Transactions Dataset https://www.kaggle.com/datasets/kartik2112/fraud-detection  \n",
    " Формат: CSV-файл с колонками:  \n",
    " •\tindex - Unique Identifier for each row  \n",
    "•\ttrans_date_trans_time - Transaction DateTime  \n",
    "•\tcc_num - Credit Card Number of Customer  \n",
    "•\tmerchant - Merchant Name  \n",
    "•\tcategory - Category of Merchant  \n",
    "•\tamt - Amount of Transaction  \n",
    "•\tfirst - First Name of Credit Card Holder  \n",
    "•\tlast - Last Name of Credit Card Holder  \n",
    "•\tgender - Gender of Credit Card Holder  \n",
    "•\tstreet - Street Address of Credit Card Holder  \n",
    "•\tcity - City of Credit Card Holder  \n",
    "•\tstate - State of Credit Card Holder  \n",
    "•\tzip - Zip of Credit Card Holder  \n",
    "•\tlat - Latitude Location of Credit Card Holder  \n",
    "•\tlong - Longitude Location of Credit Card Holder  \n",
    "•\tcity_pop - Credit Card Holder's City Population  \n",
    "•\tjob - Job of Credit Card Holder  \n",
    "•\tdob - Date of Birth of Credit Card Holder  \n",
    "•\ttrans_num - Transaction Number  \n",
    "•\tunix_time - UNIX Time of transaction  \n",
    "•\tmerch_lat - Latitude Location of Merchant  \n",
    "•\tmerch_long - Longitude Location of Merchant  "
   ]
  },
  {
   "cell_type": "markdown",
   "id": "ffbf3fbc",
   "metadata": {},
   "source": [
    "# О проекте"
   ]
  },
  {
   "cell_type": "markdown",
   "id": "fa92c904",
   "metadata": {},
   "source": [
    "**Проект**: Оптимизация маркетинга через ML: сегментация клиентов банка с помощью KMeans и DBSCAN\n",
    "\n",
    "**Данные**:\n",
    "Датасет содержит данные о банковских транзакциях.  \n",
    "\n",
    "**Цель проекта**: выявить группы клиентов с уникальными характеристиками для улучшения маркетинговых стратегий, повышения лояльности и выявления потенциальных мошеннических операций.  "
   ]
  },
  {
   "cell_type": "markdown",
   "id": "5992baa2",
   "metadata": {},
   "source": [
    "# Содержание\n",
    "\n",
    "1. **Загрузка данных**:  \n",
    "   - Импорт данных из CSV-файла.  \n",
    "   - Проверка структуры данных и вывод первых строк.  \n",
    "\n",
    "\n",
    "2. **Предобработка данных**:  \n",
    "   - Проверка на пропущенные значения и дубликаты.  \n",
    "   - Преобразование типов данных (даты, категории).  \n",
    "   - Создание новых признаков: возраст, час транзакции, день недели, месяц, флаг ночных транзакций.  \n",
    "   - Удаление персональных и избыточных данных.  \n",
    "\n",
    "\n",
    "3. **Агрегация данных по клиентам**:  \n",
    "   - Группировка данных по номеру кредитной карты (`cc_num`).  \n",
    "   - Расчет метрик: сумма транзакций, средний чек, количество транзакций, доля ночных покупок, количество уникальных магазинов и категорий.  \n",
    "\n",
    "\n",
    "4. **Масштабирование данных**:  \n",
    "   - Применение StandardScaler для нормализации числовых признаков.  \n",
    "\n",
    "\n",
    "5. **Кластеризация с использованием KMeans**:  \n",
    "   - Подбор оптимального числа кластеров с помощью метода локтя.  \n",
    "   - Применение KMeans для создания кластеров.  \n",
    "   - Добавление меток кластеров в исходные данные.  \n",
    "\n",
    "\n",
    "6. **Анализ кластеров**:  \n",
    "   - Расчет средних значений признаков для каждого кластера.  \n",
    "   - Интерпретация кластеров: описание характеристик групп клиентов.  \n",
    "\n",
    "\n",
    "7. **Проверка выбросов**:  \n",
    "   - Использование межквартильного размаха (IQR) для выявления аномалий.  \n",
    "   - Удаление выбросов и повторный анализ кластеров.  \n",
    "\n",
    "\n",
    "8. **Применение PCA для визуализации**:  \n",
    "   - Снижение размерности данных до 2 компонент.  \n",
    "   - Визуализация кластеров в 2D-пространстве для качественной оценки результатов кластеризации.\n",
    "\n",
    "\n",
    "9. **Гибридная кластеризация (KMeans + DBSCAN)**:  \n",
    "   - Применение DBSCAN для анализа плотности данных и выявления аномалий.  \n",
    "   - Сравнение результатов KMeans и DBSCAN.  \n",
    "\n",
    "\n",
    "10. **Бизнес-интерпретации и рекомендации для каждого кластера**:  \n",
    "    - Описание характеристик каждого кластера (диапазоны значений признаков).  \n",
    "    - Подготовка рекомендаций для маркетологов.  \n",
    "    - Анализ корреляции признаков с метками кластеров.  "
   ]
  },
  {
   "cell_type": "markdown",
   "id": "0a7fc751",
   "metadata": {},
   "source": [
    "# 1. Загрузка данных"
   ]
  },
  {
   "cell_type": "code",
   "execution_count": 35,
   "id": "309696a9",
   "metadata": {
    "scrolled": true
   },
   "outputs": [
    {
     "data": {
      "text/html": [
       "<div>\n",
       "<style scoped>\n",
       "    .dataframe tbody tr th:only-of-type {\n",
       "        vertical-align: middle;\n",
       "    }\n",
       "\n",
       "    .dataframe tbody tr th {\n",
       "        vertical-align: top;\n",
       "    }\n",
       "\n",
       "    .dataframe thead th {\n",
       "        text-align: right;\n",
       "    }\n",
       "</style>\n",
       "<table border=\"1\" class=\"dataframe\">\n",
       "  <thead>\n",
       "    <tr style=\"text-align: right;\">\n",
       "      <th></th>\n",
       "      <th>Unnamed: 0</th>\n",
       "      <th>trans_date_trans_time</th>\n",
       "      <th>cc_num</th>\n",
       "      <th>merchant</th>\n",
       "      <th>category</th>\n",
       "      <th>amt</th>\n",
       "      <th>first</th>\n",
       "      <th>last</th>\n",
       "      <th>gender</th>\n",
       "      <th>street</th>\n",
       "      <th>...</th>\n",
       "      <th>lat</th>\n",
       "      <th>long</th>\n",
       "      <th>city_pop</th>\n",
       "      <th>job</th>\n",
       "      <th>dob</th>\n",
       "      <th>trans_num</th>\n",
       "      <th>unix_time</th>\n",
       "      <th>merch_lat</th>\n",
       "      <th>merch_long</th>\n",
       "      <th>is_fraud</th>\n",
       "    </tr>\n",
       "  </thead>\n",
       "  <tbody>\n",
       "    <tr>\n",
       "      <th>0</th>\n",
       "      <td>0</td>\n",
       "      <td>2019-01-01 00:00:18</td>\n",
       "      <td>2703186189652095</td>\n",
       "      <td>fraud_Rippin, Kub and Mann</td>\n",
       "      <td>misc_net</td>\n",
       "      <td>4.97</td>\n",
       "      <td>Jennifer</td>\n",
       "      <td>Banks</td>\n",
       "      <td>F</td>\n",
       "      <td>561 Perry Cove</td>\n",
       "      <td>...</td>\n",
       "      <td>36.08</td>\n",
       "      <td>-81.18</td>\n",
       "      <td>3495</td>\n",
       "      <td>Psychologist, counselling</td>\n",
       "      <td>1988-03-09</td>\n",
       "      <td>0b242abb623afc578575680df30655b9</td>\n",
       "      <td>1325376018</td>\n",
       "      <td>36.01</td>\n",
       "      <td>-82.05</td>\n",
       "      <td>0</td>\n",
       "    </tr>\n",
       "    <tr>\n",
       "      <th>1</th>\n",
       "      <td>1</td>\n",
       "      <td>2019-01-01 00:00:44</td>\n",
       "      <td>630423337322</td>\n",
       "      <td>fraud_Heller, Gutmann and Zieme</td>\n",
       "      <td>grocery_pos</td>\n",
       "      <td>107.23</td>\n",
       "      <td>Stephanie</td>\n",
       "      <td>Gill</td>\n",
       "      <td>F</td>\n",
       "      <td>43039 Riley Greens Suite 393</td>\n",
       "      <td>...</td>\n",
       "      <td>48.89</td>\n",
       "      <td>-118.21</td>\n",
       "      <td>149</td>\n",
       "      <td>Special educational needs teacher</td>\n",
       "      <td>1978-06-21</td>\n",
       "      <td>1f76529f8574734946361c461b024d99</td>\n",
       "      <td>1325376044</td>\n",
       "      <td>49.16</td>\n",
       "      <td>-118.19</td>\n",
       "      <td>0</td>\n",
       "    </tr>\n",
       "    <tr>\n",
       "      <th>2</th>\n",
       "      <td>2</td>\n",
       "      <td>2019-01-01 00:00:51</td>\n",
       "      <td>38859492057661</td>\n",
       "      <td>fraud_Lind-Buckridge</td>\n",
       "      <td>entertainment</td>\n",
       "      <td>220.11</td>\n",
       "      <td>Edward</td>\n",
       "      <td>Sanchez</td>\n",
       "      <td>M</td>\n",
       "      <td>594 White Dale Suite 530</td>\n",
       "      <td>...</td>\n",
       "      <td>42.18</td>\n",
       "      <td>-112.26</td>\n",
       "      <td>4154</td>\n",
       "      <td>Nature conservation officer</td>\n",
       "      <td>1962-01-19</td>\n",
       "      <td>a1a22d70485983eac12b5b88dad1cf95</td>\n",
       "      <td>1325376051</td>\n",
       "      <td>43.15</td>\n",
       "      <td>-112.15</td>\n",
       "      <td>0</td>\n",
       "    </tr>\n",
       "    <tr>\n",
       "      <th>3</th>\n",
       "      <td>3</td>\n",
       "      <td>2019-01-01 00:01:16</td>\n",
       "      <td>3534093764340240</td>\n",
       "      <td>fraud_Kutch, Hermiston and Farrell</td>\n",
       "      <td>gas_transport</td>\n",
       "      <td>45.00</td>\n",
       "      <td>Jeremy</td>\n",
       "      <td>White</td>\n",
       "      <td>M</td>\n",
       "      <td>9443 Cynthia Court Apt. 038</td>\n",
       "      <td>...</td>\n",
       "      <td>46.23</td>\n",
       "      <td>-112.11</td>\n",
       "      <td>1939</td>\n",
       "      <td>Patent attorney</td>\n",
       "      <td>1967-01-12</td>\n",
       "      <td>6b849c168bdad6f867558c3793159a81</td>\n",
       "      <td>1325376076</td>\n",
       "      <td>47.03</td>\n",
       "      <td>-112.56</td>\n",
       "      <td>0</td>\n",
       "    </tr>\n",
       "    <tr>\n",
       "      <th>4</th>\n",
       "      <td>4</td>\n",
       "      <td>2019-01-01 00:03:06</td>\n",
       "      <td>375534208663984</td>\n",
       "      <td>fraud_Keeling-Crist</td>\n",
       "      <td>misc_pos</td>\n",
       "      <td>41.96</td>\n",
       "      <td>Tyler</td>\n",
       "      <td>Garcia</td>\n",
       "      <td>M</td>\n",
       "      <td>408 Bradley Rest</td>\n",
       "      <td>...</td>\n",
       "      <td>38.42</td>\n",
       "      <td>-79.46</td>\n",
       "      <td>99</td>\n",
       "      <td>Dance movement psychotherapist</td>\n",
       "      <td>1986-03-28</td>\n",
       "      <td>a41d7549acf90789359a9aa5346dcb46</td>\n",
       "      <td>1325376186</td>\n",
       "      <td>38.67</td>\n",
       "      <td>-78.63</td>\n",
       "      <td>0</td>\n",
       "    </tr>\n",
       "  </tbody>\n",
       "</table>\n",
       "<p>5 rows × 23 columns</p>\n",
       "</div>"
      ],
      "text/plain": [
       "   Unnamed: 0 trans_date_trans_time            cc_num  \\\n",
       "0           0   2019-01-01 00:00:18  2703186189652095   \n",
       "1           1   2019-01-01 00:00:44      630423337322   \n",
       "2           2   2019-01-01 00:00:51    38859492057661   \n",
       "3           3   2019-01-01 00:01:16  3534093764340240   \n",
       "4           4   2019-01-01 00:03:06   375534208663984   \n",
       "\n",
       "                             merchant       category    amt      first  \\\n",
       "0          fraud_Rippin, Kub and Mann       misc_net   4.97   Jennifer   \n",
       "1     fraud_Heller, Gutmann and Zieme    grocery_pos 107.23  Stephanie   \n",
       "2                fraud_Lind-Buckridge  entertainment 220.11     Edward   \n",
       "3  fraud_Kutch, Hermiston and Farrell  gas_transport  45.00     Jeremy   \n",
       "4                 fraud_Keeling-Crist       misc_pos  41.96      Tyler   \n",
       "\n",
       "      last gender                        street  ...   lat    long  city_pop  \\\n",
       "0    Banks      F                561 Perry Cove  ... 36.08  -81.18      3495   \n",
       "1     Gill      F  43039 Riley Greens Suite 393  ... 48.89 -118.21       149   \n",
       "2  Sanchez      M      594 White Dale Suite 530  ... 42.18 -112.26      4154   \n",
       "3    White      M   9443 Cynthia Court Apt. 038  ... 46.23 -112.11      1939   \n",
       "4   Garcia      M              408 Bradley Rest  ... 38.42  -79.46        99   \n",
       "\n",
       "                                 job         dob  \\\n",
       "0          Psychologist, counselling  1988-03-09   \n",
       "1  Special educational needs teacher  1978-06-21   \n",
       "2        Nature conservation officer  1962-01-19   \n",
       "3                    Patent attorney  1967-01-12   \n",
       "4     Dance movement psychotherapist  1986-03-28   \n",
       "\n",
       "                          trans_num   unix_time merch_lat merch_long  is_fraud  \n",
       "0  0b242abb623afc578575680df30655b9  1325376018     36.01     -82.05         0  \n",
       "1  1f76529f8574734946361c461b024d99  1325376044     49.16    -118.19         0  \n",
       "2  a1a22d70485983eac12b5b88dad1cf95  1325376051     43.15    -112.15         0  \n",
       "3  6b849c168bdad6f867558c3793159a81  1325376076     47.03    -112.56         0  \n",
       "4  a41d7549acf90789359a9aa5346dcb46  1325376186     38.67     -78.63         0  \n",
       "\n",
       "[5 rows x 23 columns]"
      ]
     },
     "metadata": {},
     "output_type": "display_data"
    }
   ],
   "source": [
    "import pandas as pd\n",
    "data = pd.read_csv('credit_card_dataset/Train.csv')\n",
    "data = pd.DataFrame(data) # загрузка данных в DataFrame\n",
    "display(data.head()) # вывод таблицы"
   ]
  },
  {
   "cell_type": "markdown",
   "id": "27012168",
   "metadata": {},
   "source": [
    "#  2. Предобработка данных"
   ]
  },
  {
   "cell_type": "code",
   "execution_count": null,
   "id": "b7281c00",
   "metadata": {},
   "outputs": [],
   "source": [
    "print(data.isna().sum()) #Вывод: В таблице нет пропущенных значений\n",
    "\n",
    "#Если бы в колонках были пропущенные значения, то при необходимости:\n",
    "## Их можно заполнить нулем\n",
    "data['amt'] = data['amt'].fillna(0) \n",
    "\n",
    "## Заполнить медианным значением для числовых данных с выбросами или асимметричным распределением без сложных зависимостей\n",
    "mediana = data['amt'].median()\n",
    "print(mediana)\n",
    "data['amt'] = data['amt'].fillna(mediana)\n",
    "\n",
    "## Или удалить\n",
    "data = data.dropna(subset=['amt', 'trans_num']) #метод .dropna() для удаления пропусков, параметр subset для указания столбцов, где искать пропуски"
   ]
  },
  {
   "cell_type": "code",
   "execution_count": null,
   "id": "c39577ae",
   "metadata": {
    "scrolled": true
   },
   "outputs": [],
   "source": [
    "# Проверка на наличие дублекатов\n",
    "print(data.duplicated().sum())\n",
    "\n",
    "# Дублекатов нет"
   ]
  },
  {
   "cell_type": "code",
   "execution_count": null,
   "id": "db5cf770",
   "metadata": {},
   "outputs": [],
   "source": [
    "# Проверка типов данных и преобразование\n",
    "print(data.info()) #вывод информации о датасете"
   ]
  },
  {
   "cell_type": "markdown",
   "id": "365e4bcd",
   "metadata": {},
   "source": [
    "Далее потребуется преобразовать:\n",
    "- Transaction datetime типа object в datetime;\n",
    "- Date of birth типа object в datetime.  \n",
    "\n",
    "\n",
    "Остальные данные подходящего типа."
   ]
  },
  {
   "cell_type": "code",
   "execution_count": null,
   "id": "3e36821d",
   "metadata": {},
   "outputs": [],
   "source": [
    "from datetime import datetime"
   ]
  },
  {
   "cell_type": "code",
   "execution_count": null,
   "id": "9547b492",
   "metadata": {},
   "outputs": [],
   "source": [
    "# Преобразуем дату рождения в возраст\n",
    "data['dob'] = pd.to_datetime(data['dob'], errors='coerce')  # Перевод Date of birth в datetime\n",
    "data['dob'] = data['dob'].dt.date  # Округляем Date of birth до даты\n",
    "\n",
    "# Считаем возраст\n",
    "data['age'] = (datetime.now().date() - data['dob']).dt.days // 365  # Используем .dt.days для серии"
   ]
  },
  {
   "cell_type": "code",
   "execution_count": null,
   "id": "0dd40898",
   "metadata": {},
   "outputs": [],
   "source": [
    "# Преобразуем дату транзакции в удобный формат\n",
    "data['trans_date_trans_time'] = pd.to_datetime(data['trans_date_trans_time'], errors='coerce') #перевод Transaction datetime типа object в datetime\n",
    "data['transaction_hour'] = data['trans_date_trans_time'].dt.hour # Извлекаем час транзакции\n",
    "data['transaction_day'] = data['trans_date_trans_time'].dt.dayofweek + 1 # День недели (1 - понедельник, 7 - воскресенье)\n",
    "data['transaction_month'] = data['trans_date_trans_time'].dt.month  # Извлекаем месяц транзакции\n",
    "data['is_night'] = data['transaction_hour'].apply(lambda x: 1 if x < 6 or x > 22 else 0)  # Флаг ночной транзакции"
   ]
  },
  {
   "cell_type": "markdown",
   "id": "ea4a97a2",
   "metadata": {},
   "source": [
    "Флаг ночной транзакции будем использовать для формирования признака - **доли ночных покупок (night_transactions_ratio)**:\n",
    "Этот признак отражает долю транзакций, совершенных ночью (с 00:00 до 06:00). Он может помочь выделить клиентов с необычным временем покупок, таких как ночные работники, или выявить аномалии, например, мошенничество."
   ]
  },
  {
   "cell_type": "code",
   "execution_count": null,
   "id": "7407fedd",
   "metadata": {},
   "outputs": [],
   "source": [
    "# Удаляем персональные данные, ненужные колонки, сходную колонку с датой рождения и датой транзакции\n",
    "data_clear = data.drop(columns=['Unnamed: 0', 'first', 'last', 'street', 'lat', 'long', 'zip', 'merch_lat', 'merch_long', 'trans_date_trans_time', 'trans_num', 'dob', 'unix_time', 'is_fraud'])"
   ]
  },
  {
   "cell_type": "code",
   "execution_count": null,
   "id": "9dada832",
   "metadata": {},
   "outputs": [],
   "source": [
    "data_clear.head()"
   ]
  },
  {
   "cell_type": "code",
   "execution_count": null,
   "id": "edf05295",
   "metadata": {},
   "outputs": [],
   "source": [
    "data_clear.tail()"
   ]
  },
  {
   "cell_type": "code",
   "execution_count": null,
   "id": "5a393d3b",
   "metadata": {},
   "outputs": [],
   "source": [
    "is_age_100 = (data['age'] == 100).any()\n",
    "print(is_age_100)"
   ]
  },
  {
   "cell_type": "markdown",
   "id": "acb57351",
   "metadata": {},
   "source": [
    "# 3. Агрегация данных по клиентам"
   ]
  },
  {
   "cell_type": "code",
   "execution_count": null,
   "id": "6a7a0dcf",
   "metadata": {},
   "outputs": [],
   "source": [
    "# Группируем по клиенту (cc_num) и вычисляем статистики\n",
    "customer_df = data_clear.groupby('cc_num').agg({\n",
    "    'amt': ['sum', 'mean', 'std', 'count'],  # Сумма, среднее, стандартное отклонение и количество транзакций\n",
    "    'merchant': 'nunique',  # Количество уникальных магазинов\n",
    "    'category': 'nunique',  # Количество уникальных категорий\n",
    "    'transaction_hour': lambda x: (x < 6).sum() / len(x),  # Доля ночных покупок\n",
    "    'state': 'nunique',  # Количество уникальных штатов\n",
    "    'city_pop': 'mean',  # Указывает \"Средний\", чтобы вывести единственное значение\n",
    "    'age': 'mean',\n",
    "    'gender': lambda x: 1 if (x == 'M').sum() > (x == 'F').sum() else 0  # Кодируем пол (1 - мужчина, 0 - женщина)\n",
    "}).reset_index()  # Сбрасываем индексы"
   ]
  },
  {
   "cell_type": "code",
   "execution_count": null,
   "id": "9275f461",
   "metadata": {},
   "outputs": [],
   "source": [
    "customer_df.head()"
   ]
  },
  {
   "cell_type": "code",
   "execution_count": null,
   "id": "10c5d44a",
   "metadata": {},
   "outputs": [],
   "source": [
    "# Переименовываем столбцы\n",
    "customer_df.columns = [\n",
    "    'cc_num', 'total_spent', 'avg_transaction_amt', 'std_transaction_amt', 'transaction_count',\n",
    "    'unique_merchants', 'unique_categories', 'night_transactions_ratio', 'unique_states',\n",
    "    'avg_city_pop', 'age', 'is_male'\n",
    "]"
   ]
  },
  {
   "cell_type": "code",
   "execution_count": null,
   "id": "1c442421",
   "metadata": {},
   "outputs": [],
   "source": [
    "customer_df.head()"
   ]
  },
  {
   "cell_type": "markdown",
   "id": "3bfd86c0",
   "metadata": {},
   "source": [
    "# 4. Масштабирование данных\n",
    "**Масштабирование данных** необходимо, т.к. многие алгоритмы машинного обучения чувствительны к различным масштабам признаков. Без масштабирования признаки с большими значениями могут доминировать и влиять на результат. \n",
    "\n",
    "Масштабирование помогает:\n",
    "- ускорить обучение, \n",
    "- улучшить сходимость алгоритмов,\n",
    "- сделать признаки сопоставимыми, особенно когда они измеряются в разных единицах."
   ]
  },
  {
   "cell_type": "code",
   "execution_count": null,
   "id": "6362f90a",
   "metadata": {},
   "outputs": [],
   "source": [
    "from sklearn.preprocessing import StandardScaler  # Импортируем StandardScaler для масштабирования данных"
   ]
  },
  {
   "cell_type": "code",
   "execution_count": null,
   "id": "5fda9c79",
   "metadata": {},
   "outputs": [],
   "source": [
    "customer_df_norm = customer_df.copy() # Создаем отдельную таблицу для нормализированных данных\n",
    "\n",
    "# Выбираем числовые признаки для масштабирования\n",
    "numerical_features = ['total_spent', 'avg_transaction_amt', 'std_transaction_amt', 'transaction_count',\n",
    "                      'unique_merchants', 'unique_categories', 'night_transactions_ratio', 'unique_states',\n",
    "                      'avg_city_pop', 'age']\n",
    "\n",
    "# Создаем объект StandardScaler, который будет использоваться для масштабирования\n",
    "scaler = StandardScaler()\n",
    "\n",
    "# Масштабируем данные: приводим их к среднему 0 и стандартному отклонению 1\n",
    "# fit_transform: сначала обучаем scaler на данных (считаем среднее и стандартное отклонение), затем применяем преобразование\n",
    "customer_df_norm[numerical_features] = scaler.fit_transform(customer_df_norm[numerical_features])\n",
    "\n",
    "# Просматриваем первые строки после масштабирования\n",
    "customer_df_norm.head()"
   ]
  },
  {
   "cell_type": "markdown",
   "id": "f2b2e058",
   "metadata": {},
   "source": [
    "# 5. Кластеризация с использованием KMeans\n",
    "**KMeans** — простой и быстрый алгоритм, который хорошо работает с большими данными и создает четкие кластеры. Он легко интерпретируем, эффективен для числовых данных и широко поддерживается. C помощью метода локтя можно легко выбрать количество кластеров.\n",
    "\n",
    "Однако KMeans не подходит для сложных форм кластеров и чувствителен к выбросам."
   ]
  },
  {
   "cell_type": "code",
   "execution_count": null,
   "id": "0be2ac15",
   "metadata": {},
   "outputs": [],
   "source": [
    "import matplotlib.pyplot as plt  # Импортируем библиотеку для построения графиков\n",
    "from sklearn.cluster import KMeans  # Импортируем KMeans для кластеризации"
   ]
  },
  {
   "cell_type": "code",
   "execution_count": null,
   "id": "a8828833",
   "metadata": {},
   "outputs": [],
   "source": [
    "# Пробуем разные значения k для кластеров и сохраняем инерцию (сумму квадратов расстояний)\n",
    "inertia = []  # Список для хранения инерции\n",
    "for k in range(1, 11):  # Пробуем k от 1 до 10\n",
    "    kmeans = KMeans(n_clusters=k, random_state=50)  # Инициализируем KMeans\n",
    "    kmeans.fit(customer_df_norm[numerical_features])  # Применяем кластеризацию\n",
    "    inertia.append(kmeans.inertia_)  # Сохраняем инерцию для данного k"
   ]
  },
  {
   "cell_type": "code",
   "execution_count": null,
   "id": "7371cce3",
   "metadata": {},
   "outputs": [],
   "source": [
    "# Строим график для визуализации метода локтя\n",
    "plt.plot(range(1, 11), inertia)  # Строим график инерции\n",
    "plt.title('Метод локтя для выбора числа кластеров')  # Заголовок графика\n",
    "plt.xlabel('Количество кластеров')  # Подпись оси x\n",
    "plt.ylabel('Сумма квадратов расстояний')  # Подпись оси y\n",
    "plt.show()  # Показываем график"
   ]
  },
  {
   "cell_type": "markdown",
   "id": "c5d79684",
   "metadata": {},
   "source": [
    "После **k=3** инерция значительно снижается, значит, это оптимальное количество кластеров."
   ]
  },
  {
   "cell_type": "code",
   "execution_count": null,
   "id": "e6e2a079",
   "metadata": {},
   "outputs": [],
   "source": [
    "# Применяем KMeans с выбранным количеством кластеров\n",
    "kmeans = KMeans(n_clusters=3, random_state=50)  # Инициализируем KMeans с 3 кластерами\n",
    "customer_df_norm['cluster'] = kmeans.fit_predict(customer_df[numerical_features])  # Применяем кластеризацию и добавляем метки кластеров\n",
    "\n",
    "# Просматриваем первые строки с добавленными метками кластеров\n",
    "customer_df_norm.head()"
   ]
  },
  {
   "cell_type": "markdown",
   "id": "822a8def",
   "metadata": {},
   "source": [
    "# 6. Анализ кластеров"
   ]
  },
  {
   "cell_type": "code",
   "execution_count": null,
   "id": "7daaabc4",
   "metadata": {
    "scrolled": true
   },
   "outputs": [],
   "source": [
    "# Выводим средние значения признаков по каждому кластеру\n",
    "cluster_summary = customer_df_norm.groupby('cluster').mean()  # Группируем по кластерам и считаем среднее\n",
    "print(cluster_summary.head())  # Печатаем результаты"
   ]
  },
  {
   "cell_type": "markdown",
   "id": "c145c3b8",
   "metadata": {},
   "source": [
    "**Интерпретация результатов кластеризации**  \n",
    "Чтобы продакты и маркетологи могли интерпретировать данные, вместо нормализованных значений (где сложно понять реальный возраст или сумму трат) нужно показать реальные числовые диапазоны до нормализации.\n",
    "\n",
    "Действия:\n",
    "- Добавить метки кластеров в датасет **до масшабирования**.\n",
    "- Найти минимальные и максимальные значения признаков **до масштабирования** для каждого кластера.\n",
    "- Вывести их в виде таблицы, чтобы маркетологи могли сразу увидеть реальные цифры.\n",
    "- Добавить описание, что означает каждый показатель."
   ]
  },
  {
   "cell_type": "code",
   "execution_count": null,
   "id": "80734556",
   "metadata": {
    "scrolled": true
   },
   "outputs": [],
   "source": [
    "# Добавляем кластеры в исходные данные до масштабирования\n",
    "customer_df['cluster'] = kmeans.labels_  # customer_clusters — это результат KMeans\n",
    "\n",
    "# Группируем по кластерам и считаем min-max для каждого признака\n",
    "cluster_ranges = customer_df.groupby('cluster').agg(['min', 'max'])\n",
    "\n",
    "# Оставляем только нужные признаки\n",
    "features = ['total_spent', 'avg_transaction_amt', 'transaction_count', 'age']\n",
    "cluster_ranges = cluster_ranges[features]\n",
    "\n",
    "# Переименовываем столбцы для удобства\n",
    "cluster_ranges.columns = [f\"{col[0]} ({col[1]})\" for col in cluster_ranges.columns]\n",
    "\n",
    "# Выводим таблицу\n",
    "import pandas as pd\n",
    "pd.set_option('display.float_format', '{:.2f}'.format)  # Округляем до 2 знаков\n",
    "print(cluster_ranges)"
   ]
  },
  {
   "cell_type": "markdown",
   "id": "3b8ba1b2",
   "metadata": {},
   "source": [
    "### Общие выводы: \n",
    "\n",
    "#### **Кластер 0**:\n",
    "- **Самый разнообразный по всем параметрам**: широкий диапазон общей суммы трат, средней суммы транзакции, количества транзакций и возраста.\n",
    "- **Возможная интерпретация**: это \"универсальный\" кластер, включающий клиентов с разным поведением. Здесь могут быть как активные клиенты с большим количеством транзакций, так и клиенты с крупными, но редкими покупками.\n",
    "\n",
    "#### **Кластер 1**:\n",
    "- **Высокий минимальный порог**: по общей сумме трат и средней сумме транзакции.\n",
    "- **Узкий диапазон возрастов**: от 25 до 65 лет.\n",
    "- **Возможная интерпретация**: это кластер \"премиальных\" клиентов, которые тратят больше и совершают более крупные покупки. Они могут быть целевой аудиторией для премиальных услуг или продуктов.\n",
    "\n",
    "#### **Кластер 2**:\n",
    "- **Похож на кластер 0**, но с немного меньшим диапазоном по общей сумме трат и более высоким максимумом средней суммы транзакции.\n",
    "- **Возможная интерпретация**: это кластер клиентов, которые совершают меньше транзакций, но с более крупными суммами. Возможно, это клиенты, которые делают редкие, но дорогие покупки."
   ]
  },
  {
   "cell_type": "markdown",
   "id": "e141e5da",
   "metadata": {},
   "source": [
    "**Анализ корреляции признаков с метками кластеров**  \n",
    "Это покажет, насколько сильно каждый признак коррелирует с метками кластеров. Признаки, имеющие сильную корреляцию с метками, скорее всего, сыграли ключевую роль в разделении.\n",
    "\n",
    "\n",
    "**Корреляционная матрица** показывает, насколько сильно признаки связаны друг с другом. Значения корреляции варьируются от -1 до 1:  \n",
    "1: Положительная корреляция.  \n",
    "-1: Отрицательная корреляция.  \n",
    "0: Нет корреляции.  "
   ]
  },
  {
   "cell_type": "code",
   "execution_count": null,
   "id": "590241b8",
   "metadata": {},
   "outputs": [],
   "source": [
    "# Добавляем метки кластеров в таблицу\n",
    "customer_df['cluster'] = kmeans.labels_\n",
    "\n",
    "# Анализируем корреляцию признаков с метками кластеров\n",
    "correlation = customer_df[features + ['cluster']].corr()\n",
    "print(correlation)"
   ]
  },
  {
   "cell_type": "markdown",
   "id": "c1f046b5",
   "metadata": {},
   "source": [
    "### Выводы:\n",
    "1. **Признаки слабо связаны с кластерами**: Все признаки (`total_spent`, `avg_transaction_amt`, `transaction_count`, `age`) имеют очень слабую корреляцию с метками кластеров. Это может означать, что кластеры не сильно зависят от этих признаков, либо кластеризация была выполнена на основе других признаков.\n",
    "\n",
    "\n",
    "2. **Сильная связь между `total_spent` и `transaction_count`**: Клиенты с большим количеством транзакций склонны тратить больше в целом.\n",
    "\n",
    "\n",
    "3. **Отрицательная связь между `total_spent` и `avg_transaction_amt`**: Клиенты с высокой средней суммой транзакции склонны совершать меньше транзакций.\n",
    "\n",
    "\n",
    "4. **Возраст почти не влияет на поведение**: Возраст клиента слабо связан с общей суммой трат, количеством транзакций и средней суммой транзакции."
   ]
  },
  {
   "cell_type": "markdown",
   "id": "c722d32d",
   "metadata": {},
   "source": [
    "# 7. Проверка выбросов и аномалии\n",
    "Мы можем использовать метод межквартильного размаха (IQR) или визуализацию (ящичные диаграммы, гистограммы, кластерные графики).\n",
    "\n",
    "Проверим выбросы с помощью IQR."
   ]
  },
  {
   "cell_type": "code",
   "execution_count": null,
   "id": "753940d2",
   "metadata": {},
   "outputs": [],
   "source": [
    "# Выбираем числовые признаки для анализа выбросов\n",
    "features_to_check = numerical_features  # Используем те же числовые признаки\n",
    "\n",
    "# Рассчитываем IQR (межквартильный размах)\n",
    "Q1 = customer_df_norm[features_to_check].quantile(0.25)\n",
    "Q3 = customer_df_norm[features_to_check].quantile(0.75)\n",
    "IQR = Q3 - Q1\n",
    "\n",
    "# Определяем границы выбросов\n",
    "lower_bound = Q1 - 1.5 * IQR\n",
    "upper_bound = Q3 + 1.5 * IQR\n",
    "\n",
    "# Фильтруем данные без выбросов\n",
    "filtered_df = customer_df_norm[~((customer_df_norm[features_to_check] < lower_bound) | \n",
    "                                 (customer_df_norm[features_to_check] > upper_bound)).any(axis=1)]\n",
    "\n",
    "print(f'Количество удаленных выбросов: {customer_df_norm.shape[0] - filtered_df.shape[0]}')"
   ]
  },
  {
   "cell_type": "code",
   "execution_count": null,
   "id": "489c1d4d",
   "metadata": {
    "scrolled": true
   },
   "outputs": [],
   "source": [
    "# Определяем ключевые признаки каждого кластера\n",
    "\n",
    "# Мы посмотрим на средние значения (или диапазоны) признаков по каждому кластеру.\n",
    "\n",
    "#Средние значения признаков для каждого кластера\n",
    "\n",
    "cluster_summary = filtered_df.groupby('cluster').agg(['mean', 'min', 'max'])\n",
    "\n",
    "# Выбираем ключевые финансовые и поведенческие признаки\n",
    "features = ['total_spent', 'avg_transaction_amt', 'transaction_count', 'age']\n",
    "\n",
    "# Оставляем только важные признаки\n",
    "cluster_summary = cluster_summary[features]\n",
    "\n",
    "# Переименовываем колонки для удобства\n",
    "cluster_summary.columns = [f\"{col[0]} ({col[1]})\" for col in cluster_summary.columns]\n",
    "\n",
    "# Выводим таблицу\n",
    "import pandas as pd\n",
    "pd.set_option('display.float_format', '{:.2f}'.format)  # Округляем до 2 знаков\n",
    "print(cluster_summary)"
   ]
  },
  {
   "cell_type": "markdown",
   "id": "7bc7f6b5",
   "metadata": {},
   "source": [
    "**После удаления выбросов остался только кластер 0, кластеры 1 и 2 удалились полностью**."
   ]
  },
  {
   "cell_type": "code",
   "execution_count": null,
   "id": "3a907694",
   "metadata": {},
   "outputs": [],
   "source": [
    "print(customer_df['cluster'].value_counts())  # До удаления выбросов\n",
    "print(filtered_df['cluster'].value_counts())  # После удаления"
   ]
  },
  {
   "cell_type": "code",
   "execution_count": null,
   "id": "f20e2d12",
   "metadata": {},
   "outputs": [],
   "source": [
    "print(len(customer_df) - len(filtered_df)) # Проверяем, сколько точек удалилось всего в качестве выбросов"
   ]
  },
  {
   "cell_type": "markdown",
   "id": "65807eb7",
   "metadata": {},
   "source": [
    "**После удаления выбросов кластеры 1 и 2 удалились полностью, в них входило 56 точек. Частично очистился и кластер 1. Необходимо вернуть кластеры 1 и 2, т.к. это могут быть VIP-клиенты или мошенники**.  \n",
    "\n",
    "Дальнейшие шаги:\n",
    " 1. Работаем с customer_df, а не с filtered_df — т.е. возвращаемся к полной выборке.\n",
    " 2. Пересчитываем статистики для всех кластеров (0, 1, 2).\n",
    " 3. Анализируем, чем отличаются кластеры — возможно, один из них действительно VIP-клиенты, мошенники или редкие пользователи.\n",
    " 4. Готовим интерпретацию для маркетологов."
   ]
  },
  {
   "cell_type": "markdown",
   "id": "f02392cc",
   "metadata": {},
   "source": [
    "# 8. Применение PCA для уменьшения размерности"
   ]
  },
  {
   "cell_type": "code",
   "execution_count": null,
   "id": "41c5641f",
   "metadata": {},
   "outputs": [],
   "source": [
    "from sklearn.decomposition import PCA\n",
    "\n",
    "# Применяем PCA с нормализованными данными\n",
    "pca = PCA(n_components=2)  # Уменьшаем до 2 компонент для визуализации\n",
    "principal_components = pca.fit_transform(customer_df_norm[numerical_features])\n",
    "\n",
    "# Преобразуем в DataFrame для удобства\n",
    "pca_df = pd.DataFrame(data=principal_components, columns=['PC1', 'PC2'])\n",
    "\n",
    "# Кластеризация с помощью KMeans\n",
    "kmeans = KMeans(n_clusters=3, random_state=42)  # Выбираем 3 кластера\n",
    "pca_df['cluster'] = kmeans.fit_predict(pca_df)\n",
    "\n",
    "# Печатаем результаты\n",
    "print(pca_df.head())  # Выводим первые строки"
   ]
  },
  {
   "cell_type": "code",
   "execution_count": null,
   "id": "4a5b1291",
   "metadata": {},
   "outputs": [],
   "source": [
    "# Визуализация кластеров на 2D графике\n",
    "import matplotlib.pyplot as plt\n",
    "\n",
    "plt.figure(figsize=(8, 6))\n",
    "plt.scatter(pca_df['PC1'], pca_df['PC2'], c=pca_df['cluster'], cmap='viridis', marker='o')\n",
    "plt.title('Clusters in PCA-reduced space')\n",
    "plt.xlabel('Principal Component 1')\n",
    "plt.ylabel('Principal Component 2')\n",
    "plt.colorbar(label='Cluster')\n",
    "plt.show()"
   ]
  },
  {
   "cell_type": "markdown",
   "id": "410cab66",
   "metadata": {},
   "source": [
    "**KMEANS** создал кластер, который **отдален** от остальных двух. Это значит, что кластер не имеет связи с остальными данными. Он может быть “шумом” или маленьким подмножеством данных, которое не подходит для такого метода кластеризации, особенно если данные имеют аномальные точки или выбросы."
   ]
  },
  {
   "cell_type": "markdown",
   "id": "8a00bf6d",
   "metadata": {},
   "source": [
    "# 9. Гибридная кластеризация KMEANS + DBSCAN\n",
    "DBSCAN (Density-Based Spatial Clustering of Applications with Noise) — это алгоритм кластеризации, который делит данные на кластеры, основываясь на плотности точек. Он не требует заранее заданного количества кластеров и может находить кластеры произвольной формы. DBSCAN также выделяет выбросы, которые не принадлежат кластерам. Основные параметры — это радиус поиска соседей (eps) и минимальное количество точек для кластера (min_samples).  \n",
    "• eps — радиус окрестности вокруг точки. Определяет, насколько «плотными» должны быть данные, чтобы образовать кластер.  \n",
    " • min_samples — минимальное количество точек, которые должны быть в пределах радиуса eps, чтобы начать кластер."
   ]
  },
  {
   "cell_type": "code",
   "execution_count": null,
   "id": "b0cb6994",
   "metadata": {},
   "outputs": [],
   "source": [
    "# Метод KMeans (с обновленными данными)\n",
    "\n",
    "# Повторяем PCA с очищенными данными\n",
    "pca_filtered = PCA(n_components=2)\n",
    "principal_components_filtered = pca_filtered.fit_transform(filtered_df[features_to_check])\n",
    "\n",
    "pca_filtered_df = pd.DataFrame(data=principal_components_filtered, columns=['PC1', 'PC2'])\n",
    "\n",
    "# Кластеризация\n",
    "kmeans_filtered = KMeans(n_clusters=3, random_state=42)\n",
    "pca_filtered_df['cluster'] = kmeans_filtered.fit_predict(pca_filtered_df)\n",
    "\n",
    "# Визуализация\n",
    "plt.figure(figsize=(8, 6))\n",
    "plt.scatter(pca_filtered_df['PC1'], pca_filtered_df['PC2'], c=pca_filtered_df['cluster'], cmap='viridis', marker='o')\n",
    "plt.title('Clusters after removing outliers')\n",
    "plt.xlabel('Principal Component 1')\n",
    "plt.ylabel('Principal Component 2')\n",
    "plt.colorbar(label='Cluster')\n",
    "plt.show()"
   ]
  },
  {
   "cell_type": "code",
   "execution_count": null,
   "id": "30d76bd5",
   "metadata": {},
   "outputs": [],
   "source": [
    "from sklearn.cluster import DBSCAN\n",
    "\n",
    "# Применяем DBSCAN\n",
    "dbscan = DBSCAN(eps=0.5, min_samples=10)  # Подбираем параметры\n",
    "pca_filtered_df['cluster'] = dbscan.fit_predict(pca_filtered_df[['PC1', 'PC2']])\n",
    "\n",
    "# Визуализация DBSCAN\n",
    "plt.figure(figsize=(8, 6))\n",
    "plt.scatter(pca_filtered_df['PC1'], pca_filtered_df['PC2'], c=pca_filtered_df['cluster'], cmap='rainbow', marker='o')\n",
    "plt.title('DBSCAN Clustering')\n",
    "plt.xlabel('Principal Component 1')\n",
    "plt.ylabel('Principal Component 2')\n",
    "plt.colorbar(label='Cluster')\n",
    "plt.show()"
   ]
  },
  {
   "cell_type": "markdown",
   "id": "d71b1efd",
   "metadata": {},
   "source": [
    "**Возвращение к полной выборке и расчет статистик**"
   ]
  },
  {
   "cell_type": "code",
   "execution_count": null,
   "id": "a1ac8739",
   "metadata": {},
   "outputs": [],
   "source": [
    "# Gересчитаем диапазоны значений признаков (min/max) и средние значения для каждого кластера:\n",
    "\n",
    "# Группируем по кластерам и считаем min, max, mean для каждого признака\n",
    "cluster_summary = customer_df.groupby('cluster').agg(['min', 'max', 'mean'])\n",
    "\n",
    "# Оставляем только важные признаки\n",
    "features = ['total_spent', 'avg_transaction_amt', 'transaction_count', 'age']\n",
    "cluster_summary = cluster_summary[features]\n",
    "\n",
    "# Переименовываем столбцы для удобства\n",
    "cluster_summary.columns = [f\"{col[0]} ({col[1]})\" for col in cluster_summary.columns]\n",
    "\n",
    "# Выводим результат\n",
    "import pandas as pd\n",
    "pd.set_option('display.float_format', '{:.2f}'.format)  # Округляем до 2 знаков\n",
    "print(cluster_summary)"
   ]
  },
  {
   "cell_type": "markdown",
   "id": "09173a75",
   "metadata": {},
   "source": [
    "### Итоговые выводы для маркетологов:\n",
    "**Кластер 0** — **лояльные клиенты с высокими доходами**, ключевая группа для удержания. Это наиболее активные клиенты — тратят больше всех, совершают много покупок и приносят наибольший доход компании. Стоит инвестировать в программы лояльности и персонализацию.  \n",
    "\n",
    "Количество в кластере: 927.  \n",
    "Средний чек: 109.43.  \n",
    "Возраст: от 20 до 100 лет.  \n",
    "\n",
    "**Кластер 1** — **молодые клиенты с высоким средним чеком**. Они совершают редкие, но крупные покупки. Стоит стимулировать их к более частым покупкам через премиальные предложения и бонусы.. Можно передать этот сегмент с Службу Безопасности для проверки мошеничества.\n",
    "\n",
    "Количество в кластере: 6\n",
    "Средний чек: 241.34 (самый высокий среди кластеров).\n",
    "Возраст: от 25 до 65 лет.\n",
    "\n",
    "**Кластер 2** — **группа с умеренными расходами**. Для них важно увеличить средний чек и частоту покупок через акции и программы подписки.  \n",
    "\n",
    "Количество в кластере: 50.  \n",
    "Средний чек: 124.41.  \n",
    "Возраст: от 21 до 82 лет.  "
   ]
  },
  {
   "cell_type": "markdown",
   "id": "d6e06f94",
   "metadata": {},
   "source": [
    "# Бизнес-интерпретации и рекомендации для каждого кластера\n",
    "\n",
    "---\n",
    "\n",
    "#### **Кластер 0: Лояльные клиенты с высокими доходами**\n",
    "- **Маркетинговые стратегии:**  \n",
    "  - **Программы лояльности:** Внедрить программы с накопительными бонусами, эксклюзивными скидками и персональными предложениями.  \n",
    "  - **Персонализация:** Использовать данные о покупках для создания индивидуальных рекомендаций и предложений.  \n",
    "  - **Премиальные услуги:** Предложить VIP-обслуживание, ранний доступ к новым продуктам/механикам и эксклюзивные мероприятия.  \n",
    "\n",
    "\n",
    "- **Продукты или услуги:**  \n",
    "  - **Премиальные товары:** Эксклюзивные продукты, которые подчеркивают статус клиента.  \n",
    "  - **Услуги с добавленной стоимостью:** Гарантии, расширенные сервисы, персональные консультации.  \n",
    "  - **Новинки и инновации:** Ранний доступ к новым продуктам или услугам.  \n",
    "\n",
    "\n",
    "- **Удержание клиентов:**  \n",
    "  - **Постоянная коммуникация:** Регулярно информировать клиентов о новых предложениях и акциях через email, SMS или push-уведомления.  \n",
    "  - **Обратная связь:** Собирать отзывы и учитывать пожелания клиентов для улучшения сервиса.  \n",
    "  - **Эмоциональная связь:** Создавать истории бренда, которые резонируют с ценностями клиентов.  \n",
    "\n",
    "---\n",
    "\n",
    "#### **Кластер 1: Молодые клиенты с высоким средним чеком**\n",
    "- **Маркетинговые стратегии:**  \n",
    "  - **Стимулирование частоты покупок:** Предложить бонусы или скидки за повторные покупки.  \n",
    "  - **Акции и спецпредложения:** Проводить ограниченные по времени акции, чтобы стимулировать срочные покупки.  \n",
    "  - **Социальные доказательства:** Использовать отзывы, рейтинги и рекомендации для повышения доверия.  \n",
    "\n",
    "\n",
    "- **Продукты или услуги:**  \n",
    "  - **Инновационные продукты:** Товары, которые подчеркивают технологичность и современность банка.  \n",
    "  - **Услуги с высокой добавленной стоимостью:** Гарантии, подписки, эксклюзивные услуги.  \n",
    "  - **Трендовые товары:** Продукты, которые соответствуют текущим трендам и интересам молодежи.  \n",
    "\n",
    "\n",
    "- **Удержание клиентов:**  \n",
    "  - **Геймификация:** Внедрить программы с бонусами, уровнями и наградами за активность.  \n",
    "  - **Социальные медиа:** Активно взаимодействовать с клиентами через социальные сети, в коммуникациях подчеркивать технологичность банка.  \n",
    "  - **Персонализация:** Использовать данные для создания индивидуальных предложений, которые соответствуют их интересам.  \n",
    "\n",
    "---\n",
    "\n",
    "#### **Кластер 2: Клиенты с умеренными расходами**\n",
    "- **Маркетинговые стратегии:**  \n",
    "  - **Акции и скидки:** Предложить выгодные условия оформления дебетовых карт, вкладов, подписок экосистемы для увеличения среднего чека и частоты покупок.  \n",
    "  - **Программы и подписки:** Внедрить подписки для выгоднях покупок.  \n",
    "  - **Кэшбэк и бонусы:** Вознаграждать клиентов за каждую покупку бонусами и коммуникациями, чтобы стимулировать повторные транзакции.  \n",
    "\n",
    "\n",
    "- **Продукты или услуги:**  \n",
    "  - **Бюджетные и средние товары:** Предложить оформление кредитной карты и потребительского кредита.  \n",
    "  - **Безопасность и гарантия:** В коммуникациях подчеркивать безопасность и минимизацию рисков для клиента.  \n",
    "  - **Кешбэк на товары повседневного спроса:** Стимулировать увеличение частоты покупок.  \n",
    "\n",
    "\n",
    "- **Удержание клиентов:**  \n",
    "  - **Регулярные напоминания:** Информировать клиентов о новых акциях и предложениях через email или SMS.  \n",
    "  - **Программы лояльности:** Внедрить простые и понятные программы с бонусами за каждую покупку.  \n",
    "  - **Улучшение сервиса:** Обеспечить высокий уровень обслуживания, чтобы клиенты чувствовали заботу и ценность.  \n",
    "\n",
    "---\n",
    "\n",
    "### Итоговые рекомендации:\n",
    "1. **Кластер 0** — фокус на удержание через персонализацию, премиальные услуги и программы лояльности.  \n",
    "2. **Кластер 1** — стимулирование частоты покупок через акции, бонусы и трендовые предложения.  \n",
    "3. **Кластер 2** — увеличение среднего чека и частоты покупок через акции, подписки и программы кэшбэка.  \n",
    "\n",
    "Эти стратегии помогут максимизировать доход и удержание клиентов в каждом кластере, а также улучшить их удовлетворенность и лояльность."
   ]
  },
  {
   "cell_type": "markdown",
   "id": "37bfd713",
   "metadata": {},
   "source": [
    "---\n",
    "Спасибо за внимание!\n",
    "\n",
    "Ангелина Боровкова  \n",
    "tg @angborovkova"
   ]
  }
 ],
 "metadata": {
  "kernelspec": {
   "display_name": "Python 3 (ipykernel)",
   "language": "python",
   "name": "python3"
  },
  "language_info": {
   "codemirror_mode": {
    "name": "ipython",
    "version": 3
   },
   "file_extension": ".py",
   "mimetype": "text/x-python",
   "name": "python",
   "nbconvert_exporter": "python",
   "pygments_lexer": "ipython3",
   "version": "3.9.12"
  }
 },
 "nbformat": 4,
 "nbformat_minor": 5
}
