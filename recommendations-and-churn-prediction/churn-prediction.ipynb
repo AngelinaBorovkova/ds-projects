{
 "cells": [
  {
   "cell_type": "markdown",
   "id": "bca36cbe",
   "metadata": {},
   "source": [
    "# **Who Will Leave? Bank Churn Prediction with RandomForest&CatBoost**\n",
    "\n",
    "---\n",
    "# **О проекте**\n",
    "\n",
    "Этот проект посвящен **прогнозированию оттока клиентов** банка с использованием методов анализа данных и машинного обучения. Будут выявлены ключевые факторы, влияющие на уход клиентов, и построена predictive-модель для своевременного предотвращения оттока.\n",
    "\n",
    "**Цель проекта**:  \n",
    "- Снизить уровень оттока клиентов на 15-20% за счет прогнозирования и превентивных мер  \n",
    "- Выявить наиболее уязвимые группы клиентов  \n",
    "- Оптимизировать маркетинговые затраты на удержание  \n",
    "\n",
    "---\n",
    "\n",
    "**Задачи проекта**\n",
    "1. **Анализ оттока**:  \n",
    "   - Определить текущий уровень оттока  \n",
    "   - Выявить ключевые характеристики уходящих клиентов  \n",
    "\n",
    "2. **Построение прогнозной модели**:  \n",
    "   - Разработать модель, предсказывающую вероятность ухода клиента  \n",
    "   - Оценить важность различных факторов  \n",
    "\n",
    "3. **Рекомендации для бизнеса**:  \n",
    "   - Предложить меры по снижению оттока для разных групп клиентов  \n",
    "   - Оптимизировать стратегию удержания  \n",
    "\n",
    "---\n",
    "\n",
    "**Шаги проекта**\n",
    "\n",
    "1. **Импорт библиотек**  \n",
    "   - Подключение инструментов для анализа и ML\n",
    "\n",
    "\n",
    "2. **Загрузка и обзор данных**  \n",
    "   - Изучение структуры данных  \n",
    "   - Проверка на пропуски и аномалии  \n",
    "\n",
    "\n",
    "3. **Анализ оттока**  \n",
    "   - Визуализация распределения  \n",
    "   - Сравнение характеристик ушедших и оставшихся клиентов  \n",
    "\n",
    "\n",
    "4. **Построение моделей**  \n",
    "   - RandomForest (базовая модель)  \n",
    "   - CatBoost (оптимизированная модель)  \n",
    "   - Сравнение эффективности моделей  \n",
    "\n",
    "\n",
    "5. **Рекомендации**  \n",
    "   - Выводы на основе анализа данных  \n",
    "   - Предложения по снижению оттока  \n",
    "---"
   ]
  },
  {
   "cell_type": "markdown",
   "id": "dec25cde",
   "metadata": {},
   "source": [
    "# 1. Импорт библиотек"
   ]
  },
  {
   "cell_type": "code",
   "execution_count": 33,
   "id": "d18d4365",
   "metadata": {},
   "outputs": [],
   "source": [
    "# Импорт библиотек\n",
    "import pandas as pd  # Работа с данными\n",
    "import numpy as np  # Числовые операции\n",
    "import matplotlib.pyplot as plt  # Визуализация\n",
    "import seaborn as sns  # Красивые графики"
   ]
  },
  {
   "cell_type": "markdown",
   "id": "a865f5f8",
   "metadata": {},
   "source": [
    "# 2. Загрузка и просмотр данных"
   ]
  },
  {
   "cell_type": "code",
   "execution_count": 34,
   "id": "94e13c50",
   "metadata": {},
   "outputs": [
    {
     "data": {
      "text/html": [
       "<div>\n",
       "<style scoped>\n",
       "    .dataframe tbody tr th:only-of-type {\n",
       "        vertical-align: middle;\n",
       "    }\n",
       "\n",
       "    .dataframe tbody tr th {\n",
       "        vertical-align: top;\n",
       "    }\n",
       "\n",
       "    .dataframe thead th {\n",
       "        text-align: right;\n",
       "    }\n",
       "</style>\n",
       "<table border=\"1\" class=\"dataframe\">\n",
       "  <thead>\n",
       "    <tr style=\"text-align: right;\">\n",
       "      <th></th>\n",
       "      <th>RowNumber</th>\n",
       "      <th>CustomerId</th>\n",
       "      <th>Surname</th>\n",
       "      <th>CreditScore</th>\n",
       "      <th>Geography</th>\n",
       "      <th>Gender</th>\n",
       "      <th>Age</th>\n",
       "      <th>Tenure</th>\n",
       "      <th>Balance</th>\n",
       "      <th>NumOfProducts</th>\n",
       "      <th>HasCrCard</th>\n",
       "      <th>IsActiveMember</th>\n",
       "      <th>EstimatedSalary</th>\n",
       "      <th>Exited</th>\n",
       "    </tr>\n",
       "  </thead>\n",
       "  <tbody>\n",
       "    <tr>\n",
       "      <th>0</th>\n",
       "      <td>1</td>\n",
       "      <td>15634602</td>\n",
       "      <td>Hargrave</td>\n",
       "      <td>619</td>\n",
       "      <td>France</td>\n",
       "      <td>Female</td>\n",
       "      <td>42</td>\n",
       "      <td>2</td>\n",
       "      <td>0.00</td>\n",
       "      <td>1</td>\n",
       "      <td>1</td>\n",
       "      <td>1</td>\n",
       "      <td>101348.88</td>\n",
       "      <td>1</td>\n",
       "    </tr>\n",
       "    <tr>\n",
       "      <th>1</th>\n",
       "      <td>2</td>\n",
       "      <td>15647311</td>\n",
       "      <td>Hill</td>\n",
       "      <td>608</td>\n",
       "      <td>Spain</td>\n",
       "      <td>Female</td>\n",
       "      <td>41</td>\n",
       "      <td>1</td>\n",
       "      <td>83807.86</td>\n",
       "      <td>1</td>\n",
       "      <td>0</td>\n",
       "      <td>1</td>\n",
       "      <td>112542.58</td>\n",
       "      <td>0</td>\n",
       "    </tr>\n",
       "    <tr>\n",
       "      <th>2</th>\n",
       "      <td>3</td>\n",
       "      <td>15619304</td>\n",
       "      <td>Onio</td>\n",
       "      <td>502</td>\n",
       "      <td>France</td>\n",
       "      <td>Female</td>\n",
       "      <td>42</td>\n",
       "      <td>8</td>\n",
       "      <td>159660.80</td>\n",
       "      <td>3</td>\n",
       "      <td>1</td>\n",
       "      <td>0</td>\n",
       "      <td>113931.57</td>\n",
       "      <td>1</td>\n",
       "    </tr>\n",
       "    <tr>\n",
       "      <th>3</th>\n",
       "      <td>4</td>\n",
       "      <td>15701354</td>\n",
       "      <td>Boni</td>\n",
       "      <td>699</td>\n",
       "      <td>France</td>\n",
       "      <td>Female</td>\n",
       "      <td>39</td>\n",
       "      <td>1</td>\n",
       "      <td>0.00</td>\n",
       "      <td>2</td>\n",
       "      <td>0</td>\n",
       "      <td>0</td>\n",
       "      <td>93826.63</td>\n",
       "      <td>0</td>\n",
       "    </tr>\n",
       "    <tr>\n",
       "      <th>4</th>\n",
       "      <td>5</td>\n",
       "      <td>15737888</td>\n",
       "      <td>Mitchell</td>\n",
       "      <td>850</td>\n",
       "      <td>Spain</td>\n",
       "      <td>Female</td>\n",
       "      <td>43</td>\n",
       "      <td>2</td>\n",
       "      <td>125510.82</td>\n",
       "      <td>1</td>\n",
       "      <td>1</td>\n",
       "      <td>1</td>\n",
       "      <td>79084.10</td>\n",
       "      <td>0</td>\n",
       "    </tr>\n",
       "  </tbody>\n",
       "</table>\n",
       "</div>"
      ],
      "text/plain": [
       "   RowNumber  CustomerId   Surname  CreditScore Geography  Gender  Age  \\\n",
       "0          1    15634602  Hargrave          619    France  Female   42   \n",
       "1          2    15647311      Hill          608     Spain  Female   41   \n",
       "2          3    15619304      Onio          502    France  Female   42   \n",
       "3          4    15701354      Boni          699    France  Female   39   \n",
       "4          5    15737888  Mitchell          850     Spain  Female   43   \n",
       "\n",
       "   Tenure    Balance  NumOfProducts  HasCrCard  IsActiveMember  \\\n",
       "0       2       0.00              1          1               1   \n",
       "1       1   83807.86              1          0               1   \n",
       "2       8  159660.80              3          1               0   \n",
       "3       1       0.00              2          0               0   \n",
       "4       2  125510.82              1          1               1   \n",
       "\n",
       "   EstimatedSalary  Exited  \n",
       "0        101348.88       1  \n",
       "1        112542.58       0  \n",
       "2        113931.57       1  \n",
       "3         93826.63       0  \n",
       "4         79084.10       0  "
      ]
     },
     "metadata": {},
     "output_type": "display_data"
    },
    {
     "name": "stdout",
     "output_type": "stream",
     "text": [
      "<class 'pandas.core.frame.DataFrame'>\n",
      "RangeIndex: 10000 entries, 0 to 9999\n",
      "Data columns (total 14 columns):\n",
      " #   Column           Non-Null Count  Dtype  \n",
      "---  ------           --------------  -----  \n",
      " 0   RowNumber        10000 non-null  int64  \n",
      " 1   CustomerId       10000 non-null  int64  \n",
      " 2   Surname          10000 non-null  object \n",
      " 3   CreditScore      10000 non-null  int64  \n",
      " 4   Geography        10000 non-null  object \n",
      " 5   Gender           10000 non-null  object \n",
      " 6   Age              10000 non-null  int64  \n",
      " 7   Tenure           10000 non-null  int64  \n",
      " 8   Balance          10000 non-null  float64\n",
      " 9   NumOfProducts    10000 non-null  int64  \n",
      " 10  HasCrCard        10000 non-null  int64  \n",
      " 11  IsActiveMember   10000 non-null  int64  \n",
      " 12  EstimatedSalary  10000 non-null  float64\n",
      " 13  Exited           10000 non-null  int64  \n",
      "dtypes: float64(2), int64(9), object(3)\n",
      "memory usage: 1.1+ MB\n",
      "None\n",
      "RowNumber          0\n",
      "CustomerId         0\n",
      "Surname            0\n",
      "CreditScore        0\n",
      "Geography          0\n",
      "Gender             0\n",
      "Age                0\n",
      "Tenure             0\n",
      "Balance            0\n",
      "NumOfProducts      0\n",
      "HasCrCard          0\n",
      "IsActiveMember     0\n",
      "EstimatedSalary    0\n",
      "Exited             0\n",
      "dtype: int64\n"
     ]
    }
   ],
   "source": [
    "# Загрузка данных (замени путь на свой, если файл локальный)\n",
    "data = pd.read_csv('bank_clients_data/bank_clients_data.csv')\n",
    "\n",
    "# Просмотр первых 5 строк\n",
    "display(data.head())\n",
    "\n",
    "# Основная информация о датасете\n",
    "print(data.info())\n",
    "\n",
    "# Проверка на пропущенные значения\n",
    "print(data.isnull().sum())"
   ]
  },
  {
   "cell_type": "markdown",
   "id": "bf45dd95",
   "metadata": {},
   "source": [
    "На основе данных можно сделать следующие выводы:\n",
    "\n",
    "1. **Объем данных**:  \n",
    "   Датсет содержит 10 000 записей (строк) и 14 столбцов. Это достаточно большой объем данных для анализа.\n",
    "\n",
    "\n",
    "2. **Отсутствие пропущенных значений**:  \n",
    "   В каждом столбце отсутствуют пропущенные значения (все столбцы имеют 10 000 непустых записей). Это упрощает предварительную обработку данных, так как не требуется заполнение или удаление пропусков.\n",
    "\n",
    "\n",
    "3. **Типы данных**:  \n",
    "   - **Числовые данные**: Большинство столбцов содержат числовые данные (`int64` и `float64`), такие как `CreditScore`, `Age`, `Balance`, `EstimatedSalary` и другие.  \n",
    "   - **Категориальные данные**: Есть три столбца с типом `object`, которые, скорее всего, содержат категориальные данные: `Surname`, `Geography`, и `Gender`. Эти данные могут потребовать преобразования в числовой формат (например, с помощью one-hot encoding) для использования в моделях машинного обучения.\n",
    "\n",
    "\n",
    "4. **Особенности данных**:  \n",
    "   - **CreditScore**: Кредитный рейтинг клиентов.  \n",
    "   - **Geography**: Клиенты представляют разные географические регионы (например, Франция, Испания).  \n",
    "   - **Gender**: В данных присутствуют клиенты обоих полов.  \n",
    "   - **Age**: Возраст клиентов.  \n",
    "   - **Balance**: Баланс на счетах клиентов.  \n",
    "   - **NumOfProducts**: Количество продуктов, используемых клиентами.  \n",
    "   - **HasCrCard**: Наличие кредитной карты.  \n",
    "   - **IsActiveMember**: Активность клиента.  \n",
    "   - **EstimatedSalary**: Оценка зарплаты клиентов.\n",
    "   - **Exited**: показатель ухода клиента из банка.  \n",
    "\n",
    "\n",
    "Данные выглядят чистыми и готовыми для дальнейшего анализа и построения моделей машинного обучения."
   ]
  },
  {
   "cell_type": "markdown",
   "id": "1d2e5950",
   "metadata": {},
   "source": [
    "# 3. Анализ оттока\n",
    " 1. Определим, кто уходит\n",
    " - В датасете data есть столбец Exited (1 – ушел, 0 – остался).\n",
    " - Проанализируем, какие характеристики влияют на отток.\n",
    " \n",
    " \n",
    " 2. Визуализируем различия\n",
    " - Построим распределения признаков среди ушедших и оставшихся клиентов.\n",
    " \n",
    " \n",
    "\n",
    " 3. Построим модель предсказания оттока\n",
    " - Используем Logistic Regression или RandomForestClassifier, чтобы понять, какие признаки наиболее важны."
   ]
  },
  {
   "cell_type": "code",
   "execution_count": 40,
   "id": "2f938f7e",
   "metadata": {},
   "outputs": [
    {
     "name": "stdout",
     "output_type": "stream",
     "text": [
      "Общий уровень оттока: 20.37%\n"
     ]
    },
    {
     "data": {
      "image/png": "[encoded data removed]",
      "text/plain": [
       "<Figure size 432x288 with 1 Axes>"
      ]
     },
     "metadata": {
      "needs_background": "light"
     },
     "output_type": "display_data"
    }
   ],
   "source": [
    "# Анализ ушедших клиентов\n",
    "\n",
    "# Посмотрим долю ушедших клиентов\n",
    "churn_rate = data['Exited'].mean()\n",
    "print(f'Общий уровень оттока: {churn_rate:.2%}')\n",
    "\n",
    "# Визуализируем количество ушедших и оставшихся клиентов\n",
    "sns.countplot(x=data['Exited'])\n",
    "plt.xticks([0, 1], ['Остались', 'Ушли'])\n",
    "plt.title('Распределение оттока')\n",
    "plt.show()"
   ]
  },
  {
   "cell_type": "markdown",
   "id": "325b0688",
   "metadata": {},
   "source": [
    "Отток составляет **20%**. Это значимый уровень для анализа."
   ]
  },
  {
   "cell_type": "code",
   "execution_count": 38,
   "id": "bcf6b19d",
   "metadata": {},
   "outputs": [
    {
     "name": "stdout",
     "output_type": "stream",
     "text": [
      "              Age       Balance  NumOfProducts  IsActiveMember  CreditScore  \\\n",
      "Exited                                                                        \n",
      "0       37.408389  72745.296779       1.544267        0.554565   651.853196   \n",
      "1       44.837997  91108.539337       1.475209        0.360825   645.351497   \n",
      "\n",
      "        EstimatedSalary  Gender_Male    Tenure  HasCrCard  Geography_Germany  \\\n",
      "Exited                                                                         \n",
      "0          99738.391772     0.572523  5.033279   0.707146           0.212859   \n",
      "1         101465.677531     0.440844  4.932744   0.699067           0.399607   \n",
      "\n",
      "        Geography_Spain  \n",
      "Exited                   \n",
      "0              0.259199  \n",
      "1              0.202749  \n"
     ]
    }
   ],
   "source": [
    "# Какие признаки влияют на отток\n",
    "\n",
    "# Средние значения признаков по группам (ушли vs остались)\n",
    "churn_analysis = data.groupby('Exited')[['Age', 'Balance', 'NumOfProducts', 'IsActiveMember', 'CreditScore', 'EstimatedSalary', 'Gender_Male', 'Tenure', 'HasCrCard', 'Geography_Germany', 'Geography_Spain']].mean()\n",
    "print(churn_analysis)\n"
   ]
  },
  {
   "cell_type": "markdown",
   "id": "0a723168",
   "metadata": {},
   "source": [
    "**Анализ факторов оттока клиентов**\n",
    "\n",
    "**1. Возраст (Age)**  \n",
    "Клиенты, которые уходят из банка, в среднем на 7 лет старше тех, кто остаётся. Это явный сигнал – люди после 40 лет чувствуют себя менее вовлечёнными или не видят подходящих для себя продуктов.\n",
    "\n",
    "**2. Баланс (Balance)**  \n",
    "Клиенты с более крупными суммами на счетах уходят чаще. Возможно, состоятельные клиенты более требовательны или чаще получают выгодные предложения от конкурентов.\n",
    "\n",
    "**3. Активность (IsActiveMember)**  \n",
    "Среди ушедших клиентов активных пользователей почти в полтора раза меньше. Когда клиент перестаёт пользоваться услугами банка, риск его ухода резко возрастает.\n",
    "\n",
    "**4. Пол (Gender_Male)**  \n",
    "Женщины уходят заметно чаще мужчин. Это может говорить о том, что продукты банка или подход к обслуживанию хуже соответствуют их потребностям.\n",
    "\n",
    "**5. География**  \n",
    "Особенно выделяется Германия – там отток почти в два раза выше, чем в других странах. Возможно, это связано с более развитым банковским рынком и высокой конкуренцией. Испания же показывает лучшие результаты по удержанию клиентов.\n",
    "\n",
    "**Что можно улучшить?**  \n",
    "1. **Для клиентов 40+** – разработать специальные программы лояльности и персональные консультации.  \n",
    "2. **Для состоятельных клиентов** – предложить премиум-обслуживание и эксклюзивные условия.  \n",
    "3. **Для неактивных пользователей** – запустить программу \"возвращения\" с персональными предложениями.  \n",
    "4. **Для женщин** – проанализировать их потребности и адаптировать продукты.  \n",
    "5. **В Германии** – изучить местные особенности и конкурентные предложения.  \n",
    "\n",
    "Главный вывод: банку нужно больше персонализировать подход к разным группам клиентов, особенно к тем, кто явно склонен к уходу – людям старшего возраста, состоятельным клиентам и женщинам. "
   ]
  },
  {
   "cell_type": "markdown",
   "id": "5ef356fe",
   "metadata": {},
   "source": [
    "# 4. Предсказание оттока"
   ]
  },
  {
   "cell_type": "code",
   "execution_count": 49,
   "id": "c951d24c",
   "metadata": {},
   "outputs": [
    {
     "name": "stdout",
     "output_type": "stream",
     "text": [
      "              precision    recall  f1-score   support\n",
      "\n",
      "           0       0.86      0.92      0.89      1607\n",
      "           1       0.55      0.40      0.46       393\n",
      "\n",
      "    accuracy                           0.82      2000\n",
      "   macro avg       0.70      0.66      0.68      2000\n",
      "weighted avg       0.80      0.82      0.81      2000\n",
      "\n"
     ]
    }
   ],
   "source": [
    "from sklearn.model_selection import train_test_split\n",
    "from sklearn.ensemble import RandomForestClassifier\n",
    "from sklearn.metrics import classification_report\n",
    "\n",
    "# Выбираем признаки для модели\n",
    "features = ['Age', 'Balance', 'IsActiveMember', 'Gender_Male', 'Geography_Germany', 'Geography_Spain']\n",
    "X = data[features]\n",
    "y = data['Exited']\n",
    "\n",
    "# Разделяем данные\n",
    "X_train, X_test, y_train, y_test = train_test_split(X, y, test_size=0.2, random_state=42)\n",
    "\n",
    "# Обучаем модель\n",
    "model = RandomForestClassifier(random_state=42)\n",
    "model.fit(X_train, y_train)\n",
    "\n",
    "# Предсказания и оценка качества\n",
    "y_pred = model.predict(X_test)\n",
    "print(classification_report(y_test, y_pred))"
   ]
  },
  {
   "cell_type": "code",
   "execution_count": 50,
   "id": "cc136d05",
   "metadata": {},
   "outputs": [
    {
     "name": "stdout",
     "output_type": "stream",
     "text": [
      "\n",
      "ROC-AUC Score: 0.5033\n"
     ]
    },
    {
     "data": {
      "image/png": "[encoded data removed]",
      "text/plain": [
       "<Figure size 432x288 with 1 Axes>"
      ]
     },
     "metadata": {
      "needs_background": "light"
     },
     "output_type": "display_data"
    }
   ],
   "source": [
    "print(f\"\\nROC-AUC Score: {roc_auc_score(y_test, y_proba):.4f}\")\n",
    "\n",
    "# Визуализация ROC-кривой\n",
    "RocCurveDisplay.from_estimator(model, X_test, y_test)\n",
    "plt.title('ROC Curve for Churn Prediction')\n",
    "plt.show()"
   ]
  },
  {
   "cell_type": "code",
   "execution_count": 51,
   "id": "2e1d14a2",
   "metadata": {},
   "outputs": [
    {
     "name": "stdout",
     "output_type": "stream",
     "text": [
      "Важность признаков:\n",
      "Balance              0.500089\n",
      "Age                  0.384087\n",
      "IsActiveMember       0.053594\n",
      "Geography_Germany    0.030564\n",
      "Gender_Male          0.020739\n",
      "Geography_Spain      0.010926\n",
      "dtype: float64\n"
     ]
    },
    {
     "data": {
      "image/png": "[encoded data removed]",
      "text/plain": [
       "<Figure size 432x288 with 1 Axes>"
      ]
     },
     "metadata": {
      "needs_background": "light"
     },
     "output_type": "display_data"
    }
   ],
   "source": [
    "# Оценка важности признаков\n",
    "feature_importances = pd.Series(model.feature_importances_, index=features).sort_values(ascending=False)\n",
    "print('Важность признаков:')\n",
    "print(feature_importances)\n",
    "\n",
    "# Визуализация важности признаков\n",
    "sns.barplot(x=feature_importances, y=feature_importances.index)\n",
    "plt.title('Важность признаков для предсказания оттока')\n",
    "plt.show()"
   ]
  },
  {
   "cell_type": "markdown",
   "id": "b0e510a4",
   "metadata": {},
   "source": [
    "**Анализ модели прогнозирования оттока клиентов**\n",
    "\n",
    "**1. Общая производительность модели**\n",
    "- **Accuracy (точность)**: 82%  \n",
    "  - Модель правильно предсказывает отток в 82% случаев  \n",
    "- **Precision для класса 1 (ушедшие)**: 55%  \n",
    "  - Из всех предсказанных как \"уйдут\", действительно уйдут только 55%  \n",
    "- **Recall для класса 1**: 40%  \n",
    "  - Модель выявляет только 40% реально уходящих клиентов  \n",
    "\n",
    "**Проблема**: Модель хорошо предсказывает лояльных клиентов (класс 0), но плохо распознаёт склонных к уходу (класс 1). Это типично для несбалансированных данных.  \n",
    "Низкий **Precision** некритичен, т.к. в данном случае лучше перестраховаться и запустить механики для удержания даже не склонных к уходу клиентов.  \n",
    "Однако низкий **Recall** означает, что модель упускает 60% уходящих клиентов. Этот показатель критичен.\n",
    "\n",
    "**2. Важность признаков**\n",
    "- **Balance (50%)** - самый значимый фактор  \n",
    "   - Подтверждает предыдущий вывод: клиенты с большими балансами склонны к уходу   \n",
    "- **Age (38%)** - второй по важности  \n",
    "   - Возраст остаётся ключевым индикатором оттока   \n",
    "- **IsActiveMember (5%)**  \n",
    "   - Активность клиента влияет, но меньше, чем ожидалось   \n",
    "- **Geography_Germany (3%)**  \n",
    "   - Клиенты из Германии действительно более склонны к уходу   \n",
    "- **Gender_Male (2%) и Geography_Spain (1%)**  \n",
    "   - Имеют минимальное влияние  \n",
    "\n",
    "\n",
    "**3. Рекомендации по улучшению для бизнеса**:  \n",
    "   - Сфокусироваться на клиентах с **большими балансами** и **старшего возраста**  \n",
    "   - Для Германии разработать специальную стратегию удержания  \n",
    "\n",
    "\n",
    "**4. Для улучшения модели**:  \n",
    "   - Исправить **дисбаланс классов**\n",
    "   - Попробовать другие модели (например, Gradient Boosting)   \n",
    "   - Уделять больше внимания **recall для класса 1** (важнее выявить больше уходящих, даже с ложными срабатываниями)    \n",
    "\n",
    "\n",
    "**4. Визуализация важности признаков**  \n",
    "График подтверждает доминирование Balance и Age - вместе они объясняют 88% важности модели. Остальные признаки играют второстепенную роль.\n",
    "\n",
    "\n",
    "**Вывод**: Модель выявила ключевые факторы риска, но требует доработки для лучшего прогнозирования именно уходящих клиентов. Бизнес-решения стоит строить вокруг управления клиентами с высокими балансами и старшего возраста."
   ]
  },
  {
   "cell_type": "code",
   "execution_count": 48,
   "id": "a7ee7543",
   "metadata": {},
   "outputs": [
    {
     "name": "stdout",
     "output_type": "stream",
     "text": [
      "Classification Report:\n",
      "              precision    recall  f1-score   support\n",
      "\n",
      "           0       0.90      0.78      0.83      1593\n",
      "           1       0.43      0.65      0.51       407\n",
      "\n",
      "    accuracy                           0.75      2000\n",
      "   macro avg       0.66      0.71      0.67      2000\n",
      "weighted avg       0.80      0.75      0.77      2000\n",
      "\n"
     ]
    }
   ],
   "source": [
    "from sklearn.metrics import roc_auc_score, RocCurveDisplay\n",
    "from catboost import CatBoostClassifier\n",
    "\n",
    "# Подготовка данных\n",
    "features = ['Age', 'Balance', 'IsActiveMember', 'Gender_Male', \n",
    "            'Geography_Germany', 'Geography_Spain']\n",
    "X = data[features]\n",
    "y = data['Exited']\n",
    "\n",
    "# Разделение с учетом дисбаланса (стратификация)\n",
    "X_train, X_test, y_train, y_test = train_test_split(\n",
    "    X, y, test_size=0.2, random_state=42, stratify=y\n",
    ")\n",
    "\n",
    "# Инициализация CatBoost с учетом дисбаланса\n",
    "model = CatBoostClassifier(\n",
    "    random_state=42,\n",
    "    auto_class_weights='Balanced',\n",
    "    eval_metric='AUC',\n",
    "    verbose=0\n",
    ")\n",
    "\n",
    "# Обучение модели\n",
    "model.fit(X_train, y_train)\n",
    "\n",
    "# Предсказания\n",
    "y_pred = model.predict(X_test)\n",
    "y_proba = model.predict_proba(X_test)[:, 1]  # Вероятности для класса 1\n",
    "\n",
    "# Оценка модели\n",
    "print(\"Classification Report:\")\n",
    "print(classification_report(y_test, y_pred))"
   ]
  },
  {
   "cell_type": "code",
   "execution_count": 44,
   "id": "53e48021",
   "metadata": {},
   "outputs": [
    {
     "name": "stdout",
     "output_type": "stream",
     "text": [
      "\n",
      "ROC-AUC Score: 0.7976\n"
     ]
    },
    {
     "data": {
      "image/png": "[encoded data removed]",
      "text/plain": [
       "<Figure size 432x288 with 1 Axes>"
      ]
     },
     "metadata": {
      "needs_background": "light"
     },
     "output_type": "display_data"
    }
   ],
   "source": [
    "print(f\"\\nROC-AUC Score: {roc_auc_score(y_test, y_proba):.4f}\")\n",
    "\n",
    "# Визуализация ROC-кривой\n",
    "RocCurveDisplay.from_estimator(model, X_test, y_test)\n",
    "plt.title('ROC Curve for Churn Prediction')\n",
    "plt.show()"
   ]
  },
  {
   "cell_type": "code",
   "execution_count": 45,
   "id": "052f76a8",
   "metadata": {},
   "outputs": [
    {
     "name": "stdout",
     "output_type": "stream",
     "text": [
      "\n",
      "Feature Importances:\n",
      "Age                  40.535884\n",
      "Balance              27.525212\n",
      "IsActiveMember       13.170998\n",
      "Geography_Germany     8.923784\n",
      "Gender_Male           5.755829\n",
      "Geography_Spain       4.088293\n",
      "dtype: float64\n"
     ]
    },
    {
     "data": {
      "image/png": "[encoded data removed]",
      "text/plain": [
       "<Figure size 720x432 with 1 Axes>"
      ]
     },
     "metadata": {
      "needs_background": "light"
     },
     "output_type": "display_data"
    }
   ],
   "source": [
    "# Важность признаков\n",
    "feature_importances = pd.Series(\n",
    "    model.get_feature_importance(),\n",
    "    index=features\n",
    ").sort_values(ascending=False)\n",
    "\n",
    "print(\"\\nFeature Importances:\")\n",
    "print(feature_importances)\n",
    "\n",
    "# Визуализация важности\n",
    "plt.figure(figsize=(10, 6))\n",
    "sns.barplot(x=feature_importances, y=feature_importances.index)\n",
    "plt.title('Feature Importance for Churn Prediction')\n",
    "plt.xlabel('Importance Score')\n",
    "plt.show()"
   ]
  },
  {
   "cell_type": "markdown",
   "id": "55ae0358",
   "metadata": {},
   "source": [
    "### Сравнительный анализ двух моделей\n",
    "\n",
    "#### 1. Общие показатели:\n",
    "| Метрика          | Random Forest | CatBoost |\n",
    "|------------------|---------------|----------|\n",
    "| Accuracy         | 0.82          | 0.75     |\n",
    "| ROC-AUC          | 0.50          | 0.80     |\n",
    "| F1-score (класс 1)| 0.46         | 0.51     |\n",
    "\n",
    "#### 2. По классам:\n",
    "\n",
    "**Класс 0 (лояльные клиенты):**\n",
    "- Random Forest: лучше precision (0.86 vs 0.90), но CatBoost жертвует precision ради recall\n",
    "- CatBoost: намеренно допускает больше ложных срабатываний (FP), чтобы выявить больше уходящих\n",
    "\n",
    "**Класс 1 (уходящие клиенты):**\n",
    "- CatBoost дает **значительный прирост recall** (0.40 → 0.65)\n",
    "- Улучшение F1-score с 0.46 до 0.51\n",
    "- Плата: снижение precision (0.55 → 0.43)\n",
    "\n",
    "#### 3. Интерпретация ROC-AUC:\n",
    "- Random Forest (0.50): работает не лучше случайного угадывания\n",
    "- CatBoost (0.80): хорошее качество разделения классов\n",
    "- **Вывод**: CatBoost лучше оценивает \"рисковость\" клиентов\n",
    "\n",
    "#### 4. Важность признаков:\n",
    "| Признак          | Random Forest | CatBoost |\n",
    "|------------------|---------------|----------|\n",
    "| Balance          | 50%           | 27.5%    |\n",
    "| Age              | 38%           | 40.5%    |\n",
    "| IsActiveMember   | 5%            | 13%      |\n",
    "| Geography_Germany| 3%            | 9%       |\n",
    "\n",
    "**Ключевые различия:**\n",
    "1. CatBoost считает Age более важным, чем Balance\n",
    "2. В 3 раза выше важность IsActiveMember\n",
    "3. Geography_Germany стала значимее в 3 раза\n",
    "\n",
    "#### 5. Бизнес-интерпретация:\n",
    "**Random Forest:**\n",
    "- Хорошо выявляет лояльных клиентов (precision 0.86)\n",
    "- Плохо находит уходящих (recall 0.40)\n",
    "- Ориентирована на баланс счетов\n",
    "\n",
    "**CatBoost:**\n",
    "- Лучше находит \"проблемных\" клиентов (recall 0.65)\n",
    "- Чаще ошибается в прогнозах оттока (precision 0.43)\n",
    "- Учитывает более комплексные взаимосвязи (возраст + активность + география)\n",
    "\n",
    "#### Рекомендации:\n",
    "1. **Для маркетинга**: Использовать CatBoost - он лучше находит клиентов в группе риска\n",
    "2. **Для анализа причин**: Обратить внимание на повышенную важность активности и географии в CatBoost\n",
    "\n",
    "\n",
    "**Итог**: CatBoost показал себя лучше для задачи прогнозирования оттока, несмотря на меньшую accuracy, так как:\n",
    "- В 1.6 раза лучше выявляет уходящих клиентов\n",
    "- Дает содержательные вероятности (ROC-AUC 0.8)\n",
    "- Выявляет более сложные закономерности в данных"
   ]
  },
  {
   "cell_type": "markdown",
   "id": "c635ee61",
   "metadata": {},
   "source": [
    "# **5. Рекомендации**\n",
    "\n",
    "**Для каких клиентов риск ухода максимален?**\n",
    "1. **Клиенты старше 40 лет**  \n",
    "   - Разработать специальные программы лояльности  \n",
    "   - Предложить консультации по финансовому планированию  \n",
    "\n",
    "2. **Клиенты с большими балансами**  \n",
    "   - Ввести персональных менеджеров  \n",
    "   - Предложить премиальные услуги  \n",
    "\n",
    "3. **Неактивные клиенты**  \n",
    "   - Запустить программу \"возвращения\"  \n",
    "   - Предложить бонусы за активацию  \n",
    "\n",
    "**Оптимизация маркетинга**\n",
    "- Сфокусироваться на **клиентах из Германии** (высокий отток)  \n",
    "- Уделить внимание **женщинам** (уходят чаще мужчин)  \n",
    "- Мониторить **количество продуктов** у клиента  \n",
    "\n",
    "---\n",
    "\n",
    "# **Итоги проекта**\n",
    "\n",
    "1. **Выявлены ключевые факторы оттока**:  \n",
    "   - Возраст, баланс, активность, география  \n",
    "\n",
    "2. **Построена прогнозная модель**:  \n",
    "   - CatBoost показывает ROC AUC 80%  \n",
    "   - Модель готова к интеграции в CRM  \n",
    "\n",
    "3. **Разработаны рекомендации**:  \n",
    "   - Персонализированные предложения для групп риска  \n",
    "   - Оптимизация маркетинговых затрат  \n",
    "\n",
    "**Эффект для бизнеса**:  \n",
    "Снижение оттока на 15-20% при реализации рекомендаций  \n",
    "\n",
    "---\n",
    "\n",
    "### **Дальнейшее развитие**\n",
    "1. **Интеграция с CRM**:  \n",
    "   - Автоматические уведомления о клиентах группы риска  \n",
    "\n",
    "2. **A/B тестирование**:  \n",
    "   - Проверка эффективности разных стратегий удержания  \n",
    "\n",
    "3. **Детализация анализа**:  \n",
    "   - Сегментация клиентов по типам оттока  \n",
    "   - Анализ причин ухода через опросы  \n",
    "\n",
    "**Проект позволяет не только прогнозировать отток, но и активно влиять на его снижение через targeted-мероприятия.**"
   ]
  },
  {
   "cell_type": "markdown",
   "id": "3e2f4afb",
   "metadata": {},
   "source": [
    "---\n",
    "Спасибо за внимание!\n",
    "\n",
    "Ангелина Боровкова  \n",
    "tg @angborovkova"
   ]
  }
 ],
 "metadata": {
  "kernelspec": {
   "display_name": "Python 3 (ipykernel)",
   "language": "python",
   "name": "python3"
  },
  "language_info": {
   "codemirror_mode": {
    "name": "ipython",
    "version": 3
   },
   "file_extension": ".py",
   "mimetype": "text/x-python",
   "name": "python",
   "nbconvert_exporter": "python",
   "pygments_lexer": "ipython3",
   "version": "3.9.12"
  }
 },
 "nbformat": 4,
 "nbformat_minor": 5
}
